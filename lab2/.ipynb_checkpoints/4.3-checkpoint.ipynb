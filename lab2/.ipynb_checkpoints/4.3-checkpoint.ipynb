{
 "cells": [
  {
   "cell_type": "code",
   "execution_count": 40,
   "metadata": {},
   "outputs": [],
   "source": [
    "from __future__ import division\n",
    "\n",
    "import numpy as np\n",
    "from matplotlib import pyplot as plt\n",
    "from matplotlib import patches as patches\n",
    "\n",
    "def load_votes():\n",
    "    votes = np.genfromtxt('data_lab2/votes.dat',delimiter=',')\n",
    "    data = votes.reshape((349,31))\n",
    "    return data"
   ]
  },
  {
   "cell_type": "code",
   "execution_count": 41,
   "metadata": {},
   "outputs": [
    {
     "data": {
      "text/plain": [
       "array([[0. , 1. , 0. , ..., 0.5, 0. , 1. ],\n",
       "       [0. , 1. , 1. , ..., 0. , 0.5, 0. ],\n",
       "       [0. , 1. , 0. , ..., 0.5, 0. , 1. ],\n",
       "       ...,\n",
       "       [1. , 1. , 1. , ..., 1. , 1. , 0.5],\n",
       "       [0. , 1. , 0. , ..., 0.5, 0.5, 0.5],\n",
       "       [0. , 1. , 1. , ..., 0. , 0.5, 0. ]])"
      ]
     },
     "execution_count": 41,
     "metadata": {},
     "output_type": "execute_result"
    }
   ],
   "source": [
    "load_votes()\n"
   ]
  },
  {
   "cell_type": "code",
   "execution_count": null,
   "metadata": {},
   "outputs": [],
   "source": []
  }
 ],
 "metadata": {
  "kernelspec": {
   "display_name": "Python 3",
   "language": "python",
   "name": "python3"
  },
  "language_info": {
   "codemirror_mode": {
    "name": "ipython",
    "version": 3
   },
   "file_extension": ".py",
   "mimetype": "text/x-python",
   "name": "python",
   "nbconvert_exporter": "python",
   "pygments_lexer": "ipython3",
   "version": "3.7.4"
  }
 },
 "nbformat": 4,
 "nbformat_minor": 2
}
