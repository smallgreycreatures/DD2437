{
 "cells": [
  {
   "cell_type": "code",
   "execution_count": 6,
   "metadata": {},
   "outputs": [
    {
     "ename": "SyntaxError",
     "evalue": "unexpected EOF while parsing (<ipython-input-6-c48f89b9546a>, line 34)",
     "output_type": "error",
     "traceback": [
      "\u001b[0;36m  File \u001b[0;32m\"<ipython-input-6-c48f89b9546a>\"\u001b[0;36m, line \u001b[0;32m34\u001b[0m\n\u001b[0;31m    \u001b[0m\n\u001b[0m    ^\u001b[0m\n\u001b[0;31mSyntaxError\u001b[0m\u001b[0;31m:\u001b[0m unexpected EOF while parsing\n"
     ]
    }
   ],
   "source": [
    "\"\"\"1.Each node’s weights are initialized.\n",
    "2.A vector is chosen at random from the set of training data.\n",
    "3.Every node is examined to calculate which one’s weights are most like the input vector. The winning node is commonly known as the Best Matching Unit (BMU).\n",
    "4.Then the neighbourhood of the BMU is calculated. The amount of neighbors decreases over time.\n",
    "5.The winning weight is rewarded with becoming more like the sample vector. The nighbors also become more like the sample vector. The closer a node is to the BMU, the more its weights get altered and the farther away the neighbor is from the BMU, the less it learns.\n",
    "6.Repeat step 2 for N iterations.\"\"\"\n",
    "\n",
    "from __future__ import division\n",
    "\n",
    "import numpy as np\n",
    "from matplotlib import pyplot as plt\n",
    "from matplotlib import patches as patches\n",
    "\n",
    "n_neurons = 100\n",
    "d = 80\n",
    "epochs = 20 #20 epochs\n",
    "w = np.random.random_sample()\n",
    "\n",
    "#use a weight matrix 100x84 init with random number 0 <r<1\n",
    "network_dimensions = np.random.rand(100, 84)\n",
    "\n",
    "animals = np.genfromtxt('data_lab2/animals.dat',delimiter =',')\n",
    "print(animals.shape)\n",
    "\n",
    "f = open('data_lab2/animalnames.txt', \"r\")\n",
    "animal_names = f.readlines()\n",
    "f.close()\n",
    "\n",
    "x = animals.reshape((32,84))\n",
    "print(x)\n",
    "\n",
    "for n in epochs:\n",
    "    for row in x:\n",
    "        "
   ]
  },
  {
   "cell_type": "code",
   "execution_count": null,
   "metadata": {},
   "outputs": [],
   "source": []
  }
 ],
 "metadata": {
  "kernelspec": {
   "display_name": "Python 3",
   "language": "python",
   "name": "python3"
  },
  "language_info": {
   "codemirror_mode": {
    "name": "ipython",
    "version": 3
   },
   "file_extension": ".py",
   "mimetype": "text/x-python",
   "name": "python",
   "nbconvert_exporter": "python",
   "pygments_lexer": "ipython3",
   "version": "3.7.2"
  }
 },
 "nbformat": 4,
 "nbformat_minor": 4
}
