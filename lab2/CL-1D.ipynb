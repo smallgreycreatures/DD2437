{
 "cells": [
  {
   "cell_type": "code",
   "execution_count": 16,
   "metadata": {},
   "outputs": [],
   "source": [
    "import numpy as np\n",
    "from matplotlib import pyplot as plt\n"
   ]
  },
  {
   "cell_type": "code",
   "execution_count": 17,
   "metadata": {},
   "outputs": [],
   "source": [
    "def square(patterns):\n",
    "    x = np.sin(patterns)\n",
    "    return np.where(x>=0,1,-1)\n",
    "\n",
    "def generate_data(is_sin):\n",
    "    training_patterns = np.arange(0,2*np.pi,0.1)\n",
    "    \n",
    "    test_patterns = np.arange(0,2*np.pi,0.05)\n",
    "    \n",
    "\n",
    "    if is_sin:\n",
    "        training_targets = np.sin(2*training_patterns)\n",
    "        test_targets = np.sin(2*test_patterns)\n",
    "        i = np.arange(training_patterns.shape[0])\n",
    "        np.random.shuffle(i)\n",
    "        training_patterns=training_patterns[i]\n",
    "        training_targets=training_targets[i]\n",
    "\n",
    "        i = np.arange(test_patterns.shape[0])\n",
    "        np.random.shuffle(i)\n",
    "        test_patterns=test_patterns[i]\n",
    "        test_targets=test_targets[i]\n",
    "        return training_patterns, training_targets , test_patterns, test_targets\n",
    "    \n",
    "    else:\n",
    "        training_targets = square(training_patterns)\n",
    "        test_targets = square(test_patterns)\n",
    "        i = np.arange(training_patterns.shape[0])\n",
    "        np.random.shuffle(i)\n",
    "        training_patterns=training_patterns[i]\n",
    "        training_targets=training_targets[i]\n",
    "\n",
    "        i = np.arange(test_patterns.shape[0])\n",
    "        np.random.shuffle(i)\n",
    "        test_patterns=test_patterns[i]\n",
    "        test_targets=test_targets[i]\n",
    "        return training_patterns, training_targets, test_patterns, test_targets\n"
   ]
  },
  {
   "cell_type": "code",
   "execution_count": 18,
   "metadata": {},
   "outputs": [
    {
     "data": {
      "text/plain": [
       "[<matplotlib.lines.Line2D at 0x1183e12b0>]"
      ]
     },
     "execution_count": 18,
     "metadata": {},
     "output_type": "execute_result"
    },
    {
     "data": {
      "image/png": "[encoded data removed]",
      "text/plain": [
       "<Figure size 432x288 with 1 Axes>"
      ]
     },
     "metadata": {
      "needs_background": "light"
     },
     "output_type": "display_data"
    },
    {
     "data": {
      "image/png": "[encoded data removed]",
      "text/plain": [
       "<Figure size 432x288 with 1 Axes>"
      ]
     },
     "metadata": {
      "needs_background": "light"
     },
     "output_type": "display_data"
    }
   ],
   "source": [
    "training_patterns, training_targets, test_patterns, test_targets = generate_data(0)\n",
    "plt.plot(training_patterns,training_targets, 'r+')\n",
    "plt.figure()\n",
    "plt.plot(test_patterns,test_targets,'r+')"
   ]
  },
  {
   "cell_type": "code",
   "execution_count": 56,
   "metadata": {},
   "outputs": [],
   "source": [
    "def evenly_spaced_rbf(n):\n",
    "    mu_s = np.zeros((n,1))\n",
    "    for i in range(n):\n",
    "        mu_s[i] = i*2*np.pi/n\n",
    "    return mu_s\n",
    "\n",
    "def random_rbf(n):\n",
    "    mu_s = np.zeros((n,1))\n",
    "    for i in range(n):\n",
    "        mu_s[i] = (2*np.random.random_sample()*np.pi)\n",
    "    \n",
    "    return mu_s\n",
    "\n",
    "def competetive_rbf(n,x_s,iterations,eta,n_winners):\n",
    "    mu_s = np.zeros((n,1))\n",
    "    for i in range(n):\n",
    "        mu_s[i] = 2*np.pi*np.random.random_sample()\n",
    "    random_mu_s = mu_s\n",
    "    #plt.scatter(mu_s,np.sin(2*mu_s), c='b', label=\"Before\")\n",
    "    plt.scatter(mu_s,np.sin(2*mu_s), c='b', label=\"Before\")\n",
    "    #print(mu_s)\n",
    "    #mu_s = mu_s/np.linalg.norm(mu_s)\n",
    "    #mu_s = mu_s*2*np.pi\n",
    "    #print(iterations)\n",
    "    for i in range(iterations):\n",
    "        train_vec = x_s[np.random.randint(0,x_s.shape[0])]\n",
    "        distances = np.empty((0,0))\n",
    "        for mu in mu_s:\n",
    "            distances = np.append(distances,(np.linalg.norm(train_vec-mu)))\n",
    "        \n",
    "        ind = np.argpartition(distances, -n_winners)[-n_winners:]\n",
    "        \n",
    "        #print(abs(train_vec-closest_mu))\n",
    "        #print(i)\n",
    "        for k in ind:\n",
    "            mu_s[k] = mu_s[k]+eta*(train_vec-mu_s[k])\n",
    "        #mu_s = mu_s/np.linalg.norm(mu_s)\n",
    "        #mu_s = mu_s*2*np.pi\n",
    "    plt.figure()\n",
    "    \n",
    "    plt.scatter(mu_s,np.sin(2*mu_s), c='r', label=\"After\")\n",
    "    return mu_s, random_mu_s\n"
   ]
  },
  {
   "cell_type": "code",
   "execution_count": 57,
   "metadata": {},
   "outputs": [],
   "source": [
    "def calculate_mse(f_hat,f):\n",
    "    return np.mean((f_hat-f)**2)\n",
    "\n",
    "def calculate_NMAE(f_hat,f):\n",
    "    return np.mean(np.abs(f_hat-f))\n",
    "\n",
    "def gaussian(x, mu, sigma):\n",
    "    #print(x.shape)\n",
    "    #print(mu.shape)\n",
    "    #print(np.exp(-(x-mu)**2/(2*sigma**2)).shape)\n",
    "    return np.exp(-(x-mu)**2/(2*sigma**2))\n",
    "\n",
    "    \n",
    "def get_phi_batch(x_s, mu_s,sigma):\n",
    "    phi_s = np.zeros((x_s.shape[0],mu_s.shape[0]))\n",
    "    for i, mu in enumerate(mu_s):\n",
    "        for j, x in enumerate(x_s):\n",
    "            phi_s[j,i]=gaussian(mu,x,sigma)\n",
    "    return phi_s\n",
    "\n",
    "def get_phi_seq(x_s,mu_s, sigma):\n",
    "    #print(x_s.shape)\n",
    "    phi_s = np.zeros((mu_s.shape[1],1))\n",
    "    #print(phi_s.shape)\n",
    "    for i, mu in enumerate(mu_s.T):\n",
    "        #print(i)\n",
    "        phi_s=gaussian(mu,x_s,sigma)\n",
    "    return phi_s\n",
    "\n",
    "def train_network_batch(x_s,f,mu_s,sigma):\n",
    "\n",
    "    phi_s = get_phi_batch(x_s,mu_s,sigma)\n",
    "    #print(phi_s.shape)\n",
    "    #print(phi_s)\n",
    "    #dim phi_s(Nxn) dim weight(nx1)\n",
    "    \n",
    "    w = np.matmul(np.matmul(phi_s.T,f),np.linalg.inv(np.matmul(phi_s.T,phi_s)))\n",
    "    f_hat = np.sum(np.multiply(phi_s,w),axis=1)\n",
    "    mse = calculate_mse(f_hat,f)\n",
    "    return w, mse\n",
    "\n",
    "def train_network_delta_rule(x_s,f,mu_s,sigma,eta, epochs):\n",
    "    \"\"\"\n",
    "    w=np.random.randn(mu_s.shape[0],1)\n",
    "    \n",
    "    for epoch in range(epochs):\n",
    "\n",
    "        f_hat = np.zeros(f.shape[0])\n",
    "        for k,x in enumerate(x_s):\n",
    "            phi_s_x_k = np.zeros((mu_s.shape[0],1))\n",
    "            for n,mu in enumerate(mu_s):\n",
    "                phi_s_x_k[n] = gaussian(x,mu,sigma)\n",
    "            #print(phi_s_x_k.shape)\n",
    "            #print(w.shape)\n",
    "            f_hat[k] = np.dot(phi_s_x_k.T,w)\n",
    "            e = (f[k] - f_hat[k])**2\n",
    "            delta_w = eta*e*phi_s_x_k\n",
    "            w = w + delta_w\n",
    "    \"\"\"\n",
    "    learning_error_list= np.zeros(epochs)\n",
    "    W=np.random.randn(mu_s.shape[0],1)\n",
    "    \n",
    "    for i in range(epochs):\n",
    "        e_list=[]\n",
    "        x = np.zeros(1)\n",
    "        for k in range(np.shape(x_s)[0]):\n",
    "            x[0] = x_s[k]\n",
    "            #print(mu_s.shape)\n",
    "            #print(x.shape)\n",
    "            phi = get_phi_seq(x,mu_s,sigma)\n",
    "            phi = phi.reshape(1,-1)\n",
    "            e=f[k]-phi.dot(W)\n",
    "            error=np.float(0.5*(e**2))\n",
    "            e_list.append(error)\n",
    "            W=W+eta*e*phi.reshape(mu_s.shape[0],1)\n",
    "\n",
    "        learning_error=np.mean(e_list)\n",
    "        learning_error_list[i] = learning_error\n",
    "    \n",
    "    #return w,calculate_mse(f,f_hat)\n",
    "    return W, np.mean(learning_error_list)\n",
    "    \n",
    "    \n",
    "    return w, np.mean(tmp)\n",
    "def predict(x_s,mu_s,sigma,w):\n",
    "    phi_s = get_phi(x_s,mu_s,sigma)\n",
    "    \n",
    "    w = w.reshape((w.shape[0],1))\n",
    "    f_hat = np.sum(np.dot(phi_s,w),axis=1)\n",
    "    return f_hat\n",
    "\n",
    "def predict_seq(x_s,mu_s,sigma,w):\n",
    "    f_hats = np.zeros(x_s.shape[0])\n",
    "    x = np.zeros(1)\n",
    "    for k in range(np.shape(x_s)[0]):\n",
    "        x[0] = x_s[k]\n",
    "        phi_s = get_phi_seq(x,mu_s,sigma)\n",
    "    \n",
    "        w = w.reshape((w.shape[0],1))\n",
    "        f_hat = np.sum(np.dot(phi_s,w))\n",
    "        f_hats[k] = f_hat\n",
    "    return f_hats"
   ]
  },
  {
   "cell_type": "code",
   "execution_count": 59,
   "metadata": {},
   "outputs": [
    {
     "name": "stdout",
     "output_type": "stream",
     "text": [
      "[[0.        ]\n",
      " [0.62831853]\n",
      " [1.25663706]\n",
      " [1.88495559]\n",
      " [2.51327412]\n",
      " [3.14159265]\n",
      " [3.76991118]\n",
      " [4.39822972]\n",
      " [5.02654825]\n",
      " [5.65486678]]\n",
      "[[5.13643149]\n",
      " [0.42708945]\n",
      " [2.96874078]\n",
      " [3.93471515]\n",
      " [2.25133453]\n",
      " [5.10875387]\n",
      " [4.88656001]\n",
      " [5.66846167]\n",
      " [2.28319815]\n",
      " [0.38429096]]\n",
      "(63,)\n",
      "MSE seq: 0.29565233172709576\n",
      "MSE seq test:  0.33680478068141084\n",
      "(63,)\n",
      "MSE: 0.013390994760166105\n"
     ]
    },
    {
     "ename": "ValueError",
     "evalue": "operands could not be broadcast together with shapes (10,) (126,) ",
     "output_type": "error",
     "traceback": [
      "\u001b[0;31m---------------------------------------------------------------------------\u001b[0m",
      "\u001b[0;31mValueError\u001b[0m                                Traceback (most recent call last)",
      "\u001b[0;32m<ipython-input-59-fd38fe7e8934>\u001b[0m in \u001b[0;36m<module>\u001b[0;34m\u001b[0m\n\u001b[1;32m     47\u001b[0m \u001b[0mw\u001b[0m\u001b[0;34m,\u001b[0m\u001b[0mmse\u001b[0m \u001b[0;34m=\u001b[0m \u001b[0mtrain_network_batch\u001b[0m\u001b[0;34m(\u001b[0m\u001b[0mtraining_patterns\u001b[0m\u001b[0;34m,\u001b[0m \u001b[0mtraining_targets\u001b[0m\u001b[0;34m,\u001b[0m\u001b[0mmu_s\u001b[0m\u001b[0;34m,\u001b[0m\u001b[0msigma\u001b[0m\u001b[0;34m)\u001b[0m\u001b[0;34m\u001b[0m\u001b[0;34m\u001b[0m\u001b[0m\n\u001b[1;32m     48\u001b[0m \u001b[0mprint\u001b[0m\u001b[0;34m(\u001b[0m\u001b[0;34m\"MSE:\"\u001b[0m\u001b[0;34m,\u001b[0m \u001b[0mmse\u001b[0m\u001b[0;34m)\u001b[0m\u001b[0;34m\u001b[0m\u001b[0;34m\u001b[0m\u001b[0m\n\u001b[0;32m---> 49\u001b[0;31m \u001b[0mf_hat\u001b[0m \u001b[0;34m=\u001b[0m \u001b[0mpredict\u001b[0m\u001b[0;34m(\u001b[0m\u001b[0mtest_patterns\u001b[0m\u001b[0;34m,\u001b[0m\u001b[0mmu_s\u001b[0m\u001b[0;34m,\u001b[0m\u001b[0msigma\u001b[0m\u001b[0;34m,\u001b[0m\u001b[0mw\u001b[0m\u001b[0;34m)\u001b[0m\u001b[0;34m\u001b[0m\u001b[0;34m\u001b[0m\u001b[0m\n\u001b[0m\u001b[1;32m     50\u001b[0m \u001b[0mmse_test\u001b[0m \u001b[0;34m=\u001b[0m \u001b[0mcalculate_mse\u001b[0m\u001b[0;34m(\u001b[0m\u001b[0mf_hat\u001b[0m\u001b[0;34m,\u001b[0m\u001b[0mtest_targets\u001b[0m\u001b[0;34m)\u001b[0m\u001b[0;34m\u001b[0m\u001b[0;34m\u001b[0m\u001b[0m\n\u001b[1;32m     51\u001b[0m \u001b[0mprint\u001b[0m\u001b[0;34m(\u001b[0m\u001b[0;34m\"MSE test:\"\u001b[0m\u001b[0;34m,\u001b[0m\u001b[0mmse_test\u001b[0m\u001b[0;34m)\u001b[0m\u001b[0;34m\u001b[0m\u001b[0;34m\u001b[0m\u001b[0m\n",
      "\u001b[0;32m<ipython-input-57-3811e2d4b124>\u001b[0m in \u001b[0;36mpredict\u001b[0;34m(x_s, mu_s, sigma, w)\u001b[0m\n\u001b[1;32m     84\u001b[0m     \u001b[0;32mreturn\u001b[0m \u001b[0mw\u001b[0m\u001b[0;34m,\u001b[0m \u001b[0mnp\u001b[0m\u001b[0;34m.\u001b[0m\u001b[0mmean\u001b[0m\u001b[0;34m(\u001b[0m\u001b[0mtmp\u001b[0m\u001b[0;34m)\u001b[0m\u001b[0;34m\u001b[0m\u001b[0;34m\u001b[0m\u001b[0m\n\u001b[1;32m     85\u001b[0m \u001b[0;32mdef\u001b[0m \u001b[0mpredict\u001b[0m\u001b[0;34m(\u001b[0m\u001b[0mx_s\u001b[0m\u001b[0;34m,\u001b[0m\u001b[0mmu_s\u001b[0m\u001b[0;34m,\u001b[0m\u001b[0msigma\u001b[0m\u001b[0;34m,\u001b[0m\u001b[0mw\u001b[0m\u001b[0;34m)\u001b[0m\u001b[0;34m:\u001b[0m\u001b[0;34m\u001b[0m\u001b[0;34m\u001b[0m\u001b[0m\n\u001b[0;32m---> 86\u001b[0;31m     \u001b[0mphi_s\u001b[0m \u001b[0;34m=\u001b[0m \u001b[0mget_phi\u001b[0m\u001b[0;34m(\u001b[0m\u001b[0mx_s\u001b[0m\u001b[0;34m,\u001b[0m\u001b[0mmu_s\u001b[0m\u001b[0;34m,\u001b[0m\u001b[0msigma\u001b[0m\u001b[0;34m)\u001b[0m\u001b[0;34m\u001b[0m\u001b[0;34m\u001b[0m\u001b[0m\n\u001b[0m\u001b[1;32m     87\u001b[0m \u001b[0;34m\u001b[0m\u001b[0m\n\u001b[1;32m     88\u001b[0m     \u001b[0mw\u001b[0m \u001b[0;34m=\u001b[0m \u001b[0mw\u001b[0m\u001b[0;34m.\u001b[0m\u001b[0mreshape\u001b[0m\u001b[0;34m(\u001b[0m\u001b[0;34m(\u001b[0m\u001b[0mw\u001b[0m\u001b[0;34m.\u001b[0m\u001b[0mshape\u001b[0m\u001b[0;34m[\u001b[0m\u001b[0;36m0\u001b[0m\u001b[0;34m]\u001b[0m\u001b[0;34m,\u001b[0m\u001b[0;36m1\u001b[0m\u001b[0;34m)\u001b[0m\u001b[0;34m)\u001b[0m\u001b[0;34m\u001b[0m\u001b[0;34m\u001b[0m\u001b[0m\n",
      "\u001b[0;32m<ipython-input-20-c5a4099ef07d>\u001b[0m in \u001b[0;36mget_phi\u001b[0;34m(x_s, mu_s, sigma)\u001b[0m\n\u001b[1;32m     14\u001b[0m     \u001b[0;32mfor\u001b[0m \u001b[0mi\u001b[0m\u001b[0;34m,\u001b[0m \u001b[0mmu\u001b[0m \u001b[0;32min\u001b[0m \u001b[0menumerate\u001b[0m\u001b[0;34m(\u001b[0m \u001b[0mmu_s\u001b[0m\u001b[0;34m.\u001b[0m\u001b[0mT\u001b[0m\u001b[0;34m)\u001b[0m\u001b[0;34m:\u001b[0m\u001b[0;34m\u001b[0m\u001b[0;34m\u001b[0m\u001b[0m\n\u001b[1;32m     15\u001b[0m         \u001b[0;31m#print(i)\u001b[0m\u001b[0;34m\u001b[0m\u001b[0;34m\u001b[0m\u001b[0;34m\u001b[0m\u001b[0m\n\u001b[0;32m---> 16\u001b[0;31m         \u001b[0mphi_s\u001b[0m\u001b[0;34m[\u001b[0m\u001b[0mi\u001b[0m\u001b[0;34m]\u001b[0m\u001b[0;34m=\u001b[0m\u001b[0mgaussian\u001b[0m\u001b[0;34m(\u001b[0m\u001b[0mmu\u001b[0m\u001b[0;34m,\u001b[0m\u001b[0mx_s\u001b[0m\u001b[0;34m,\u001b[0m\u001b[0msigma\u001b[0m\u001b[0;34m)\u001b[0m\u001b[0;34m\u001b[0m\u001b[0;34m\u001b[0m\u001b[0m\n\u001b[0m\u001b[1;32m     17\u001b[0m     \u001b[0;32mreturn\u001b[0m \u001b[0mphi_s\u001b[0m\u001b[0;34m\u001b[0m\u001b[0;34m\u001b[0m\u001b[0m\n\u001b[1;32m     18\u001b[0m \u001b[0;34m\u001b[0m\u001b[0m\n",
      "\u001b[0;32m<ipython-input-57-3811e2d4b124>\u001b[0m in \u001b[0;36mgaussian\u001b[0;34m(x, mu, sigma)\u001b[0m\n\u001b[1;32m      9\u001b[0m     \u001b[0;31m#print(mu.shape)\u001b[0m\u001b[0;34m\u001b[0m\u001b[0;34m\u001b[0m\u001b[0;34m\u001b[0m\u001b[0m\n\u001b[1;32m     10\u001b[0m     \u001b[0;31m#print(np.exp(-(x-mu)**2/(2*sigma**2)).shape)\u001b[0m\u001b[0;34m\u001b[0m\u001b[0;34m\u001b[0m\u001b[0;34m\u001b[0m\u001b[0m\n\u001b[0;32m---> 11\u001b[0;31m     \u001b[0;32mreturn\u001b[0m \u001b[0mnp\u001b[0m\u001b[0;34m.\u001b[0m\u001b[0mexp\u001b[0m\u001b[0;34m(\u001b[0m\u001b[0;34m-\u001b[0m\u001b[0;34m(\u001b[0m\u001b[0mx\u001b[0m\u001b[0;34m-\u001b[0m\u001b[0mmu\u001b[0m\u001b[0;34m)\u001b[0m\u001b[0;34m**\u001b[0m\u001b[0;36m2\u001b[0m\u001b[0;34m/\u001b[0m\u001b[0;34m(\u001b[0m\u001b[0;36m2\u001b[0m\u001b[0;34m*\u001b[0m\u001b[0msigma\u001b[0m\u001b[0;34m**\u001b[0m\u001b[0;36m2\u001b[0m\u001b[0;34m)\u001b[0m\u001b[0;34m)\u001b[0m\u001b[0;34m\u001b[0m\u001b[0;34m\u001b[0m\u001b[0m\n\u001b[0m\u001b[1;32m     12\u001b[0m \u001b[0;34m\u001b[0m\u001b[0m\n\u001b[1;32m     13\u001b[0m \u001b[0;34m\u001b[0m\u001b[0m\n",
      "\u001b[0;31mValueError\u001b[0m: operands could not be broadcast together with shapes (10,) (126,) "
     ]
    },
    {
     "data": {
      "image/png": "[encoded data removed]",
      "text/plain": [
       "<Figure size 432x288 with 1 Axes>"
      ]
     },
     "metadata": {
      "needs_background": "light"
     },
     "output_type": "display_data"
    },
    {
     "data": {
      "image/png": "[encoded data removed]",
      "text/plain": [
       "<Figure size 432x288 with 1 Axes>"
      ]
     },
     "metadata": {
      "needs_background": "light"
     },
     "output_type": "display_data"
    }
   ],
   "source": [
    "noise = True\n",
    "\n",
    "sigma = 1\n",
    "num_of_rbf = 10\n",
    "eta = 1e-2\n",
    "epochs = 10\n",
    "training_patterns, training_targets, test_patterns, test_targets = generate_data(1)\n",
    "if noise:\n",
    "    noise=np.random.randn(training_patterns.shape[0])*0.1\n",
    "    noise_test=np.random.randn(test_patterns.shape[0])*0.1\n",
    "    training_patterns = training_patterns+noise\n",
    "    test_patterns = test_patterns+noise_test\n",
    "\n",
    "mu_s = evenly_spaced_rbf(num_of_rbf)\n",
    "print(mu_s)\n",
    "mu_s = random_rbf(num_of_rbf)\n",
    "#print(mu_s)\n",
    "\n",
    "print(mu_s)\n",
    "#mu_s = unevenly_spaced_rbf(num_of_rbf)\n",
    "#print(mu_s)\n",
    "print(training_patterns.shape)\n",
    "#w,mse = train_network_batch(training_patterns, training_targets,mu_s,sigma)\n",
    "#print(\"MSE:\", mse)\n",
    "#f_hat = predict(test_patterns,mu_s,sigma,w)\n",
    "#mse_test = calculate_mse(f_hat,test_targets)\n",
    "#print(\"MSE test:\",mse_test)\n",
    "#plt.figure()\n",
    "#plt.plot(test_patterns,f_hat,'+')\n",
    "mu_s, random_mu_s = competetive_rbf(num_of_rbf,training_patterns,20,eta,1)\n",
    "\n",
    "w, mse = train_network_delta_rule(training_patterns, training_targets,mu_s,sigma,eta,epochs)\n",
    "print(\"MSE seq:\", mse)\n",
    "f_hat = predict_seq(test_patterns,mu_s,sigma,w)\n",
    "mse_test = calculate_mse(f_hat,test_targets)\n",
    "print(\"MSE seq test: \",mse_test)\n",
    "mse_test = calculate_mse(f_hat,test_targets)\n",
    "#mu_s = evenly_spaced_rbf(num_of_rbf)\n",
    "#print(mu_s)\n",
    "#print(mu_s)\n",
    "\n",
    "#mu_s = competetive_rbf(num_of_rbf,training_patterns,100,eta)\n",
    "#print(mu_s)\n",
    "#mu_s = unevenly_spaced_rbf(num_of_rbf)\n",
    "#print(mu_s)\n",
    "print(training_patterns.shape)\n",
    "w,mse = train_network_batch(training_patterns, training_targets,mu_s,sigma)\n",
    "print(\"MSE:\", mse)\n",
    "f_hat = predict(test_patterns,mu_s,sigma,w)\n",
    "mse_test = calculate_mse(f_hat,test_targets)\n",
    "print(\"MSE test:\",mse_test)\n",
    "#plt.figure()\n",
    "plt.plot(test_patterns,f_hat,'+')\n",
    "\n",
    "w, mse = train_network_delta_rule(training_patterns, training_targets,mu_s,sigma,eta,epochs)\n",
    "print(\"MSE seq:\", mse)"
   ]
  },
  {
   "cell_type": "code",
   "execution_count": null,
   "metadata": {},
   "outputs": [],
   "source": []
  },
  {
   "cell_type": "code",
   "execution_count": null,
   "metadata": {},
   "outputs": [],
   "source": []
  },
  {
   "cell_type": "code",
   "execution_count": null,
   "metadata": {},
   "outputs": [],
   "source": []
  }
 ],
 "metadata": {
  "kernelspec": {
   "display_name": "Python 3",
   "language": "python",
   "name": "python3"
  },
  "language_info": {
   "codemirror_mode": {
    "name": "ipython",
    "version": 3
   },
   "file_extension": ".py",
   "mimetype": "text/x-python",
   "name": "python",
   "nbconvert_exporter": "python",
   "pygments_lexer": "ipython3",
   "version": "3.7.2"
  }
 },
 "nbformat": 4,
 "nbformat_minor": 4
}
