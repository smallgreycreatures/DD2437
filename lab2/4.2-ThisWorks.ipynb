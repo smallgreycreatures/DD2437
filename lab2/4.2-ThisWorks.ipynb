{
 "cells": [
  {
   "cell_type": "code",
   "execution_count": 127,
   "metadata": {},
   "outputs": [],
   "source": [
    "from __future__ import division\n",
    "\n",
    "import numpy as np\n",
    "from matplotlib import pyplot as plt\n",
    "from matplotlib import patches as patches\n",
    "\n",
    "def load_cities():\n",
    "    with open(\"data_lab2/cities.dat\") as f:\n",
    "        rows = f.read().split(\"\\n\")[0:-1]\n",
    "        #print(rows)\n",
    "        rows = [ row[:-1].split(\", \") for row in rows ]\n",
    "        rows = np.array(rows, dtype=float)\n",
    "        return rows\n",
    "    "
   ]
  },
  {
   "cell_type": "code",
   "execution_count": 128,
   "metadata": {},
   "outputs": [],
   "source": [
    "cities = load_cities()\n",
    "\n",
    "n_neurons = cities.shape[0]\n",
    "epochs = 1000\n",
    "eta  = 1e-2\n",
    "scaling = 2e-1\n",
    "neighbourhood_size = 2*scaling\n",
    "nResize_step = [10,40]\n",
    "verbose = False\n",
    "verbose_level = 100\n",
    "\n",
    "w = np.random.rand(cities.shape[0], cities.shape[1])\n",
    "\n",
    "for i in range(epochs):\n",
    "    \n",
    "    if i > nResize_step[0]:\n",
    "        neighbourhood_size = 1*scaling\n",
    "    elif i > nResize_step[1]:\n",
    "        neighbourhood_size = 0\n",
    "    else:\n",
    "        pass\n",
    "    \n",
    "    for j,city in enumerate(cities):\n",
    "        dist = city - w\n",
    "        dist_norm = np.linalg.norm(dist,axis=1)\n",
    "        \n",
    "        min_dist = np.amin(dist_norm)\n",
    "        min_ind = np.where(dist_norm == min_dist)\n",
    "        min_ind = min_ind[0]\n",
    "        \n",
    "        w[min_ind,:] = w[min_ind,:] + eta*(city - w[min_ind,:])\n",
    "        \n",
    "        neighbour_dist = np.zeros(cities.shape[0])\n",
    "        for it,c in enumerate(cities):\n",
    "            if it != j:\n",
    "                n_dist = np.linalg.norm(c-city)\n",
    "                neighbour_dist[it] = n_dist\n",
    "        \n",
    "        nMask = neighbour_dist <= neighbourhood_size/2\n",
    "        w[nMask,:] = w[nMask,:] + eta*(city-w[nMask,:])\n",
    "    \n",
    "    wPoints = np.vstack([w,w[0,:]])\n",
    "    if verbose:\n",
    "        if i % (epochs/verbose_level) == 0:\n",
    "            plt.figure()\n",
    "            plt.plot(cities[:,0],cities[:,1],'or',label = 'Cities')\n",
    "            plt.plot(wPoints.T[0],wPoints.T[1],'--k',label = 'The tour')\n",
    "            plt.legend()\n",
    "            plt.title('Epoch '+str(i*(epochs/verbose_level)))\n",
    "\n",
    "\n",
    "winners = np.zeros(cities.shape[0])\n",
    "for it,c in enumerate(cities):\n",
    "    dist = c - w\n",
    "    dist_norm = np.linalg.norm(dist,axis=1)\n",
    "        \n",
    "    min_dist = np.amin(dist_norm)\n",
    "    min_ind = np.where(dist_norm == min_dist)\n",
    "    min_ind = min_ind[0]\n",
    "    \n",
    "    w[min_ind,:] = w[min_ind,:] + eta*(c - w[min_ind,:])\n",
    "            \n",
    "    winners[it] = min_ind\n",
    "\n",
    "sorted_cities = np.zeros(cities.shape)\n",
    "for n,winner in enumerate(winners):\n",
    "    sorted_cities[n,:] = cities[int(winner),:]\n",
    "        \n"
   ]
  },
  {
   "cell_type": "code",
   "execution_count": 129,
   "metadata": {},
   "outputs": [
    {
     "data": {
      "image/png": "[encoded data removed]",
      "text/plain": [
       "<Figure size 288x288 with 1 Axes>"
      ]
     },
     "metadata": {
      "needs_background": "light"
     },
     "output_type": "display_data"
    },
    {
     "name": "stdout",
     "output_type": "stream",
     "text": [
      "[[0.4    0.4439]\n",
      " [0.2439 0.1463]\n",
      " [0.1707 0.2293]\n",
      " [0.2293 0.761 ]\n",
      " [0.5171 0.9414]\n",
      " [0.8732 0.6536]\n",
      " [0.6878 0.5219]\n",
      " [0.8488 0.3609]\n",
      " [0.6683 0.2536]\n",
      " [0.6195 0.2634]]\n",
      "[0. 1. 2. 3. 4. 5. 6. 7. 8. 9.]\n"
     ]
    }
   ],
   "source": [
    "#make tour\n",
    "wPoints = np.vstack([w,w[0,:]])\n",
    "\n",
    "fig = plt.figure(figsize=(4,4))\n",
    "ax1 = fig.add_subplot(111)\n",
    "\n",
    "\n",
    "ax1.plot(cities[:,0],cities[:,1],'*r',label='cities')\n",
    "#ax1.plot(wPoints[:,0],wPoints[:,1],'--k',label='route')\n",
    "ax1.plot(wPoints[:,0],wPoints[:,1],'--k',label='route')\n",
    "ax1.legend()\n",
    "\n",
    "plt.show()\n",
    "\n",
    "print(sorted_cities)\n",
    "print(winners)"
   ]
  },
  {
   "cell_type": "code",
   "execution_count": null,
   "metadata": {},
   "outputs": [],
   "source": []
  }
 ],
 "metadata": {
  "kernelspec": {
   "display_name": "Python 3",
   "language": "python",
   "name": "python3"
  },
  "language_info": {
   "codemirror_mode": {
    "name": "ipython",
    "version": 3
   },
   "file_extension": ".py",
   "mimetype": "text/x-python",
   "name": "python",
   "nbconvert_exporter": "python",
   "pygments_lexer": "ipython3",
   "version": "3.7.4"
  }
 },
 "nbformat": 4,
 "nbformat_minor": 4
}
