{
 "cells": [
  {
   "cell_type": "markdown",
   "metadata": {},
   "source": [
    "### 3.2.2 Classification and regression with a two-layer perceptron"
   ]
  },
  {
   "cell_type": "markdown",
   "metadata": {},
   "source": [
    "#### 3.2.2 Classification of linearly non-separable data"
   ]
  },
  {
   "cell_type": "code",
   "execution_count": 68,
   "metadata": {},
   "outputs": [],
   "source": [
    "import numpy as np\n",
    "import matplotlib.pyplot as plt"
   ]
  },
  {
   "cell_type": "code",
   "execution_count": 111,
   "metadata": {},
   "outputs": [],
   "source": [
    "def generateSubsets(n,scenario,shuffle=1, verbose=1, pattern=1):\n",
    "    mu_A = np.array([1.0, 0.3])\n",
    "    mu_B = np.array([0.0, -0.1])\n",
    "    sigma_A = 0.2\n",
    "    sigma_B = 0.3\n",
    "    \n",
    "    class_A=np.zeros((2,int(n)))\n",
    "    class_B=np.zeros((2,int(n)))\n",
    "    class_A[0]= np.concatenate((np.random.randn(1,int(0.5*n))*sigma_A-mu_A[0],np.random.randn(1,int(0.5*n))*sigma_A+mu_A[0]),axis=1)\n",
    "    class_B[0]= np.random.randn(1,int(n))*sigma_B +mu_B[0]\n",
    "    class_A[1]= np.random.randn(1,int(n))*sigma_A +mu_A[1]\n",
    "    class_B[1]= np.random.randn(1,int(n))*sigma_B +mu_B[1]     \n",
    "  \n",
    "    if shuffle:\n",
    "        i = np.arange(class_A.shape[1])\n",
    "        np.random.shuffle(i)\n",
    "        class_A=class_A[:,i] \n",
    "        print(class_A)\n",
    "        print(class_A.shape)\n",
    "        i = np.arange(class_B.shape[1])\n",
    "        np.random.shuffle(i)\n",
    "        class_B=class_B[:,i] \n",
    "        patterns=np.concatenate((class_A,class_B),axis=1)\n",
    "        patterns = np.concatenate((patterns,np.ones((1,patterns.shape[1]))))\n",
    "        targets=np.concatenate((np.ones(n),-np.ones(n)))\n",
    "\n",
    "\n",
    "        if scenario == 0:\n",
    "            patterns = patterns\n",
    "            targets = targets\n",
    "            validation_patterns = []\n",
    "            validation_targets = []\n",
    "\n",
    "        #50% of A and 100% of B\n",
    "        if scenario == 1:\n",
    "            validation_patterns = patterns[:,0:49]\n",
    "            validation_targets = targets[0:49]\n",
    "            patterns = patterns[:,50:199]\n",
    "            targets = targets[50:199]\n",
    "\n",
    "            \n",
    "        i = np.arange(patterns.shape[1])\n",
    "        np.random.shuffle(i)\n",
    "        patterns=patterns[:,i] \n",
    "        targets=targets[i]\n",
    "        i_val = np.arange(validation_patterns.shape[1])\n",
    "        np.random.shuffle(i_val)\n",
    "        validation_patterns=validation_patterns[:,i_val] \n",
    "        validation_targets=validation_targets[i_val]\n",
    "        #print(patterns)\n",
    "        #print(targets)\n",
    "    else:\n",
    "        patterns = np.concatenate((class_A,class_B),axis=1)\n",
    "        targets = np.array([np.ones(n,),-np.ones(n,)])\n",
    "        targets = np.ravel(targets)\n",
    "\n",
    "    if verbose:\n",
    "        #Plotting classes if desired\n",
    "        plt_A, = plt.plot(class_A[0,:],class_A[1,:],'g^', label='Class A')\n",
    "        plt_B, = plt.plot(class_B[0,:],class_B[1,:],'bs', label='Class B')\n",
    "        plt.legend(handles=[plt_A, plt_B])\n",
    "        plt.show()\n",
    "\n",
    "\n",
    "\n",
    "    if pattern:\n",
    "        return patterns, targets, validation_patterns, validation_targets\n",
    "    else:\n",
    "        return class_A, class_B"
   ]
  },
  {
   "cell_type": "code",
   "execution_count": 112,
   "metadata": {},
   "outputs": [],
   "source": [
    "def error_mse(T, Y):\n",
    "    #return np.sum((T - Y) ** 2) / 2\n",
    "    return np.mean(((Y-T)**2))\n",
    "\n",
    "def accuracy(T, Y):\n",
    "    #return np.sum((T - Y) ** 2) / 2\n",
    "    return np.sum(abs(T-Y)/2)/len(T)\n",
    "\n",
    "def phi(x):\n",
    "    return 2/(1+np.exp(-x))-1\n",
    "\n",
    "\n",
    "def phi_prime(x):\n",
    "    return 0.5*((1+phi(x))*(1-phi(x)))\n",
    "\n",
    "def forward_pass(X,W,V):\n",
    "    #print(W.shape)\n",
    "    #print(X.shape)\n",
    "    H = phi(np.matmul(W,X))\n",
    "    #print(H.shape)\n",
    "    H=np.vstack([H,np.ones(np.shape(H)[1])])\n",
    "    #print(H.shape)\n",
    "    #print(V.shape)\n",
    "    O = phi(np.matmul(V,H))\n",
    "    #print(O.shape)\n",
    "    return H,O\n",
    "\n",
    "def backward_pass(O,T,H,V,hidden):\n",
    "    delta_o = np.multiply((O-T),phi_prime(O))\n",
    "    #print(\"hej hopp\")\n",
    "    #print(V.shape)\n",
    "    #print(delta_y.shape)\n",
    "    #print(phi_prime(H).shape)\n",
    "    delta_h = np.multiply(np.matmul(np.transpose(V),delta_o),phi_prime(H))\n",
    "    delta_h = delta_h[0:hidden]\n",
    "    return delta_o, delta_h\n",
    "\n",
    "def update_weights(X,H,W,V,eta,delta_o, delta_h,dw,dv,alpha):\n",
    "    dw = alpha*dw-(1-alpha)*np.matmul(delta_h,np.transpose(X))\n",
    "    dv = alpha*dv - (1-alpha)*np.matmul(delta_o,np.transpose(H))\n",
    "    W = W + dw*eta\n",
    "    V = V + dv*eta\n",
    "    return W,V,dw,dv\n",
    "\n",
    "def backprop(eta,X,T,W,V,hidden,epochs,alpha=0.9):\n",
    "    weights1 = []\n",
    "    weights2 = []\n",
    "    mse_errors = []\n",
    "    accuracys = []\n",
    "    #acc = 0\n",
    "    dw = np.zeros(W.shape)\n",
    "    dv = np.zeros(V.shape)\n",
    "    #print(eta,X,T,W,V,hidden,epochs)\n",
    "    for i in range(epochs):\n",
    "        weights1.append(W)\n",
    "        weights2.append(V)\n",
    "        H,O = forward_pass(X,W,V)\n",
    "        mse = error_mse(T,O)\n",
    "        mse_errors.append(mse)\n",
    "        acc = accuracy(T,O)\n",
    "        accuracys.append(acc)\n",
    "        delta_o,delta_h = backward_pass(O,T,H,V,hidden)\n",
    "        W,V,dw,dv = update_weights(X,H,W,V,eta,delta_o,delta_h,dw,dv,alpha)\n",
    "        #print(H)\n",
    "        #print(\"print\")\n",
    "        #print(Y)\n",
    "    weights1.append(W)\n",
    "    weights2.append(V)\n",
    "        \n",
    "    return weights1, weights2,mse_errors,accuracys\n"
   ]
  },
  {
   "cell_type": "code",
   "execution_count": 113,
   "metadata": {},
   "outputs": [],
   "source": [
    "def weights_init_MLP(n_out,n_in,scale,hidden):\n",
    "    W = scale*np.random.randn(hidden,nPerceptron+1)\n",
    "    V = scale*np.random.randn(1,hidden+1)\n",
    "    #print(W.shape)\n",
    "    #W = np.append(W,scale*np.random.normal())\n",
    "    #W = np.hstack((W,np.random.normal()))\n",
    "    #print(W.shape)\n",
    "    return V,W"
   ]
  },
  {
   "cell_type": "code",
   "execution_count": 114,
   "metadata": {},
   "outputs": [],
   "source": [
    "def predict(validation,W,V, classification = True):\n",
    "        #print(validation)\n",
    "        _, prediction = forward_pass(validation,W,V)\n",
    "        \n",
    "        return prediction"
   ]
  },
  {
   "cell_type": "code",
   "execution_count": 115,
   "metadata": {
    "scrolled": true
   },
   "outputs": [
    {
     "name": "stdout",
     "output_type": "stream",
     "text": [
      "[[ 0.82962464 -1.20667894 -1.3465198  -1.07449857 -0.64386805 -1.37230552\n",
      "   0.75199503  0.76532287  1.16062586 -0.79539032  1.28060566  0.84993924\n",
      "   0.93004549 -1.05898325  0.77198125 -1.01309395 -1.05822197 -1.04819926\n",
      "   0.91532252  1.09410777  1.21276917 -1.00138908 -1.0989117  -0.98480908\n",
      "   1.20393719  1.12975677 -0.86960764 -0.78018137  1.20697423 -0.84018295\n",
      "  -0.70280225  1.18076482 -1.02531929 -0.97584753  0.88451896  0.91963594\n",
      "  -0.8460879   0.91512499  1.09268888 -0.91681133  0.89386222 -0.86076168\n",
      "   1.04218339  0.92913187 -0.87650785 -0.86954061 -1.31793233  0.80644356\n",
      "  -0.83541965 -1.39344605 -0.80283272 -1.03951456  0.74291057  1.20322688\n",
      "   0.85306885  1.13427062  0.81776498 -1.00864268  0.89518977  1.04537254\n",
      "  -1.09551967  1.06423729 -0.95784379  0.95488696  0.81760985  0.76521662\n",
      "  -1.0238524   1.23072673  1.10116432  1.05146149 -1.04238595  1.03938377\n",
      "  -1.14717238 -1.30755809 -0.98960898 -0.56013373 -1.19006582 -1.10441242\n",
      "   1.01169243  0.97491183  1.08160319 -0.80473953  0.97943194  0.62310665\n",
      "  -0.62751134 -1.12984502 -1.10890599 -0.92091349 -0.8616035  -0.89408845\n",
      "   1.19486266  0.74962041  1.0872841   1.11769793  0.93207387 -1.02234808\n",
      "  -0.97910765 -0.9307633   1.12446961  0.73210609]\n",
      " [ 0.38745253  0.13628734  0.40795668  0.1757054  -0.17125482  0.12454237\n",
      "   0.43835194  0.42235376  0.29033723  0.35821387  0.46403191  0.57846828\n",
      "   0.39991863 -0.32284118  0.71077853  0.2049565   0.3416878   0.12765499\n",
      "   0.23549664  0.49616462  0.620134    0.5564165   0.44804838  0.56647541\n",
      "   0.30498896  0.10758899  0.32283445  0.51843726  0.31206613  0.35981672\n",
      "   0.08230036  0.27019238  0.30327763  0.22350431  0.20174274  0.21583606\n",
      "   0.31743851  0.15875521  0.34103649  0.50808806  0.29671117  0.29092505\n",
      "   0.4357205   0.57644031  0.1573441   0.59959571  0.32257618  0.13459974\n",
      "   0.37225792  0.23586161  0.12143212  0.05096213  0.18007451  0.37029575\n",
      "   0.54428542  0.7572453   0.12786119  0.77989338  0.01880363  0.53773062\n",
      "   0.34880387  0.44225805  0.02838901  0.817252    0.44825831 -0.00347383\n",
      "   0.52884326  0.32658935  0.24904067  0.30229561  0.43132707  0.42442542\n",
      "   0.62434137  0.26481657  0.21168481  0.47943359 -0.10261965  0.05366439\n",
      "   0.0866251  -0.00379453  0.42362133  0.38921723  0.32618023  0.50338899\n",
      "   0.42422355  0.27478067  0.57983315  0.61606861 -0.157216    0.21262917\n",
      "   0.4429873   0.50229021 -0.04789887 -0.05597438  0.23853276  0.46368542\n",
      "   0.56694553  0.01043402  0.57417517  0.20695241]]\n",
      "(2, 100)\n"
     ]
    },
    {
     "data": {
      "image/png": "[encoded data removed]",
      "text/plain": [
       "<Figure size 432x288 with 1 Axes>"
      ]
     },
     "metadata": {
      "needs_background": "light"
     },
     "output_type": "display_data"
    },
    {
     "name": "stdout",
     "output_type": "stream",
     "text": [
      "(5, 3)\n",
      "(1, 6)\n",
      "hej\n",
      "(3, 149)\n",
      "(149,)\n",
      "(1001, 5, 3)\n",
      "(1001, 1, 6)\n",
      "shape\n",
      "(3, 49)\n",
      "(49,)\n",
      "mse\n",
      "acc\n"
     ]
    }
   ],
   "source": [
    "eta = 1e-4\n",
    "nData = 100\n",
    "#n_in = \n",
    "n_out = 1\n",
    "nPerceptron = 3\n",
    "scale = 1e-2\n",
    "hidden_perceptrons = 5\n",
    "epochs = 1000\n",
    "\n",
    "#W,V = weights_init_MLP(n_out,n_in,scale,nPerceptron)\n",
    "X,T,val_X,val_T = generateSubsets(nData,1,verbose=1)\n",
    "W = scale*np.random.randn(hidden_perceptrons,np.shape(X)[0])\n",
    "V = scale*np.random.randn(n_out,hidden_perceptrons+1)\n",
    "print(W.shape)\n",
    "print(V.shape)\n",
    "print(\"hej\")\n",
    "print(X.shape)\n",
    "print(T.shape)\n",
    "\n",
    "\n",
    "\n",
    "W_train,V_train,mse,acc = backprop(eta,X,T,W,V,hidden_perceptrons,epochs)\n",
    "mse_val = []\n",
    "acc_val = []\n",
    "W_train = np.array(W_train)\n",
    "V_train = np.array(V_train)\n",
    "print(W_train.shape)\n",
    "print(V_train.shape)\n",
    "print(\"shape\")\n",
    "print(val_X.shape)\n",
    "print(val_T.shape)\n",
    "for i in range(1,W_train.shape[0]):\n",
    "    p = predict(val_X,W_train[i,:,:],V_train[i,:,:])\n",
    "    mse_val.append(error_mse(val_T,p))\n",
    "    acc_val.append(accuracy(val_T,p))\n",
    "    \n",
    "print(\"mse\")\n",
    "#print(mse_val)\n",
    "print(\"acc\")\n",
    "#print(acc)\n"
   ]
  },
  {
   "cell_type": "code",
   "execution_count": 116,
   "metadata": {},
   "outputs": [
    {
     "data": {
      "image/png": "[encoded data removed]",
      "text/plain": [
       "<Figure size 432x288 with 1 Axes>"
      ]
     },
     "metadata": {
      "needs_background": "light"
     },
     "output_type": "display_data"
    },
    {
     "data": {
      "image/png": "[encoded data removed]",
      "text/plain": [
       "<Figure size 432x288 with 1 Axes>"
      ]
     },
     "metadata": {
      "needs_background": "light"
     },
     "output_type": "display_data"
    }
   ],
   "source": [
    "plt_mse, = plt.plot(np.linspace(0,epochs,epochs),mse,'r', label='MSE')\n",
    "plt_mse_val, = plt.plot(np.linspace(0,epochs,epochs),mse_val,'b', label='validation MSE')\n",
    "plt.legend(handles=[plt_mse,plt_mse_val])\n",
    "#plt.axis([0,20,0,100])\n",
    "plt.title('Errors')\n",
    "plt.show()\n",
    "plt_acc, = plt.plot(np.linspace(0,epochs,epochs),acc,'r',label='Accuracy')\n",
    "plt_acc_val, = plt.plot(np.linspace(0,epochs,epochs),acc_val,'b', label='MSE')\n",
    "plt.legend(handles=[plt_acc,plt_acc_val])\n",
    "plt.title('Errors')\n",
    "plt.show()"
   ]
  },
  {
   "cell_type": "code",
   "execution_count": null,
   "metadata": {},
   "outputs": [],
   "source": []
  },
  {
   "cell_type": "code",
   "execution_count": null,
   "metadata": {},
   "outputs": [],
   "source": []
  },
  {
   "cell_type": "code",
   "execution_count": null,
   "metadata": {},
   "outputs": [],
   "source": []
  }
 ],
 "metadata": {
  "kernelspec": {
   "display_name": "Python 3",
   "language": "python",
   "name": "python3"
  },
  "language_info": {
   "codemirror_mode": {
    "name": "ipython",
    "version": 3
   },
   "file_extension": ".py",
   "mimetype": "text/x-python",
   "name": "python",
   "nbconvert_exporter": "python",
   "pygments_lexer": "ipython3",
   "version": "3.7.2"
  }
 },
 "nbformat": 4,
 "nbformat_minor": 2
}
