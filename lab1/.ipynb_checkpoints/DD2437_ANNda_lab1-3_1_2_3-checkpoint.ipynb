{
 "cells": [
  {
   "cell_type": "markdown",
   "metadata": {},
   "source": [
    "# Lab Assignment 1 \n",
    "### Learning and generalisation in feed-forward networks — from perceptron learning to backprop"
   ]
  },
  {
   "cell_type": "markdown",
   "metadata": {},
   "source": [
    "### 3. Part I\n",
    "####  3.1 Classification with a single-layer perceptron\n",
    "##### 3.1.1 Generation of linearly-separable data"
   ]
  },
  {
   "cell_type": "code",
   "execution_count": 10,
   "metadata": {},
   "outputs": [],
   "source": [
    "import numpy as np\n",
    "import matplotlib.pyplot as plt"
   ]
  },
  {
   "cell_type": "code",
   "execution_count": 17,
   "metadata": {},
   "outputs": [],
   "source": [
    "#Draw two sets of points/patterns in 2D from multivariate normal distribution\n",
    "def generatePattern(shuffle=1, verbose=1, pattern=1):\n",
    "    \n",
    "    n = 10\n",
    "    mu_A = np.array([2.0, 1.0])\n",
    "    mu_B = np.array([-2.0, 0.0])\n",
    "    sigma_A = 0.5\n",
    "    sigma_B = 0.5\n",
    "\n",
    "    class_A = np.concatenate((np.multiply(np.random.normal(0,1,(1,n)),sigma_A) +  mu_A[0],np.multiply(np.random.normal(0,1,(1,n)),sigma_A) +  mu_A[1]))\n",
    "    class_B = np.concatenate((np.multiply(np.random.normal(0,1,(1,n)),sigma_B) +  mu_B[0],np.multiply(np.random.normal(0,1,(1,n)),sigma_B) +  mu_A[1]))\n",
    "\n",
    "    if shuffle:\n",
    "        \n",
    "        patterns=np.concatenate((class_A,class_B),axis=1)\n",
    "        patterns = np.concatenate((patterns,np.ones((1,2*n))))\n",
    "        targets=np.concatenate((np.ones(n),-np.ones(n)))\n",
    "        i = np.arange(patterns.shape[1])\n",
    "        np.random.shuffle(i)\n",
    "        patterns=patterns[:,i]\n",
    "        targets=targets[i]\n",
    "        #print(patterns)\n",
    "        #print(targets)\n",
    "    else:\n",
    "        patterns = np.concatenate((class_A,class_B),axis=1)\n",
    "        targets = np.array([np.ones(n,),-np.ones(n,)])\n",
    "        targets = np.ravel(targets)\n",
    "    \n",
    "    if verbose:\n",
    "        #Plotting classes if desired\n",
    "        plt_A, = plt.plot(class_A[0,:],class_A[1,:],'g^', label='Class A')\n",
    "        plt_B, = plt.plot(class_B[0,:],class_B[1,:],'bs', label='Class B')\n",
    "        plt.legend(handles=[plt_A, plt_B])\n",
    "        plt.show()\n",
    "    \n",
    "    \n",
    "    \n",
    "    if pattern:\n",
    "        return patterns, targets\n",
    "    else:\n",
    "        return class_A, class_B\n",
    "    "
   ]
  },
  {
   "cell_type": "code",
   "execution_count": 18,
   "metadata": {},
   "outputs": [
    {
     "data": {
      "image/png": "[encoded data removed]",
      "text/plain": [
       "<Figure size 432x288 with 1 Axes>"
      ]
     },
     "metadata": {
      "needs_background": "light"
     },
     "output_type": "display_data"
    }
   ],
   "source": [
    "class_A, class_B = generatePattern(shuffle=0,pattern=0)"
   ]
  },
  {
   "cell_type": "markdown",
   "metadata": {},
   "source": [
    "#### 3.1.2 Classification with a single-layer perceptron and analysis"
   ]
  },
  {
   "cell_type": "code",
   "execution_count": 19,
   "metadata": {},
   "outputs": [],
   "source": [
    "#Randomly initalize weight matrix W\n",
    "def weights_init(n_dim,n_points,scale):\n",
    "    W = scale*np.random.randn(n_dim,n_points)\n",
    "    return W\n"
   ]
  },
  {
   "cell_type": "code",
   "execution_count": 56,
   "metadata": {},
   "outputs": [],
   "source": [
    "def error(T, Y):\n",
    "    #return np.sum((T - Y) ** 2) / 2\n",
    "    return np.mean(((T-Y)**2))\n",
    "\n",
    "def update_weights_delta_rule(eta,T,W,X):\n",
    "    H = np.matmul(W,X)\n",
    "    err = error(T,H)\n",
    "    dW = -eta*np.matmul(H-T,np.transpose(X))\n",
    "    return dW, err\n",
    "\n",
    "def update_weights_perceptron(eta,T,W,X):\n",
    "    H = np.matmul(W,X)\n",
    "    Y = np.sign(H)\n",
    "    err = error(T,Y)\n",
    "    dW = -eta*np.matmul((Y-T),np.transpose(X))\n",
    "    #dW = eta*err*X\n",
    "    return dW, err\n",
    "\n",
    "def update_weights_delta_rule_sequential(eta,X,T,W):\n",
    "    weights = 0\n",
    "    err = []\n",
    "    for i in range(len(T)):\n",
    "        #X1_sample = X[0][i]\n",
    "        #X2_sample = X[1][i]\n",
    "        #X3_sample = X[2][i]\n",
    "        X_sample = X[:,i]\n",
    "        T_sample = T[i]\n",
    "        \n",
    "        H = np.matmul(W,X_sample)\n",
    "        dW = -eta*(H-T_sample)*np.transpose(X_sample)\n",
    "        #H_s.append(H)\n",
    "        err.append((H-T_sample)**2)\n",
    "        \n",
    "        weights = weights+dW\n",
    "    print(weights)\n",
    "    err = np.mean(err)\n",
    "    print(err)\n",
    "    \n",
    "    return weights, err\n",
    "\n",
    "def train_network(eta,X,W,T,epochs,plot=1,sequential=False):\n",
    "    \n",
    "    errors = np.zeros((2,epochs))\n",
    "    W_perceptron = W\n",
    "    W_delta_rule = W\n",
    "    \n",
    "    if plot:\n",
    "        linespace = np.linspace(-2,2,10)\n",
    "        line_perceptron = get_decisionBound(W_perceptron)\n",
    "        line_delta_rule = get_decisionBound(W_delta_rule)\n",
    "        \n",
    "        plt.subplot(211)\n",
    "        plt_A, = plt.plot(class_A[0,:],class_A[1,:],'g^', label='Class A')\n",
    "        plt_B, = plt.plot(class_B[0,:],class_B[1,:],'bs', label='Class B')\n",
    "        plt_line_perceptron, = plt.plot(linespace,line_perceptron,'k',label='DecisionBoundary')\n",
    "        plt.legend(handles=[plt_A, plt_B, plt_line_perceptron])\n",
    "        plt.axis([-2.5,2.5,-2,2])\n",
    "        plt.title('Perceptron Learning Rule')\n",
    "        \n",
    "        plt.subplot(212)\n",
    "        plt_A, = plt.plot(class_A[0,:],class_A[1,:],'g^', label='Class A')\n",
    "        plt_B, = plt.plot(class_B[0,:],class_B[1,:],'bs', label='Class B')\n",
    "        plt_line_delta_rule, = plt.plot(linespace,line_delta_rule,'k',label='DecisionBoundary')\n",
    "        plt.legend(handles=[plt_A, plt_B, plt_line_delta_rule])\n",
    "        plt.axis([-2.5,2.5,-2,2])\n",
    "        plt.title('Delta Learning Rule')\n",
    "        \n",
    "        \n",
    "        \n",
    "    \n",
    "    for i in range(epochs):\n",
    "        \n",
    "        if sequential:\n",
    "            dw_delta_rule, err_delta_rule = update_weights_delta_rule_sequential(eta,X,T,W_delta_rule)\n",
    "        else:\n",
    "            dw_delta_rule, err_delta_rule = update_weights_delta_rule(eta,T,W_delta_rule,X)\n",
    "        \n",
    "        dW_perceptron, err_perceptron = update_weights_perceptron(eta,T,W_perceptron,X)\n",
    "        \n",
    "        W_delta_rule = dw_delta_rule + W_delta_rule\n",
    "        W_perceptron = dW_perceptron + W_perceptron\n",
    "        \n",
    "        errors[0,i] = err_perceptron\n",
    "        errors[1,i] = err_delta_rule\n",
    "        \n",
    "        if plot:\n",
    "            line_perceptron = get_decisionBound(W_perceptron)\n",
    "            line_delta_rule = get_decisionBound(W_delta_rule)\n",
    "    \n",
    "            #plt_line_perceptron.set_ydata(line_perceptron)\n",
    "            #plt_line_delta_rule.set_ydata(line_delta_rule)\n",
    "            \n",
    "            #plt.ion()\n",
    "            #plt.draw()\n",
    "            #plt_line_perceptron.remove()\n",
    "            #plt_line_delta_rule.remove()\n",
    "            \n",
    "            plt.subplot(211)\n",
    "            plt_A, = plt.plot(class_A[0,:],class_A[1,:],'g^', label='Class A')\n",
    "            plt_B, = plt.plot(class_B[0,:],class_B[1,:],'bs', label='Class B')\n",
    "            plt_line_perceptron, = plt.plot(linespace,line_perceptron,'k',label='DecisionBoundary')\n",
    "            plt.legend(handles=[plt_A, plt_B, plt_line_perceptron])\n",
    "            plt.axis([-2.5,2.5,-2,2])\n",
    "            plt.title('Perceptron Learning Rule')\n",
    "        \n",
    "            plt.subplot(212)\n",
    "            plt_A, = plt.plot(class_A[0,:],class_A[1,:],'g^', label='Class A')\n",
    "            plt_B, = plt.plot(class_B[0,:],class_B[1,:],'bs', label='Class B')\n",
    "            plt_line_delta_rule, = plt.plot(linespace,line_delta_rule,'k',label='DecisionBoundary')\n",
    "            plt.legend(handles=[plt_A, plt_B, plt_line_delta_rule])\n",
    "            plt.axis([-2.5,2.5,-2,2])\n",
    "            plt.title('Delta Learning Rule')\n",
    "            \n",
    "            plt.show()\n",
    "            plt.pause(0.1)\n",
    "    \n",
    "            #print(linespace.shape,line.shape)\n",
    "    \n",
    "        \n",
    "    \n",
    "    #plt.show()\n",
    "            \n",
    "    return W_perceptron, W_delta_rule, errors\n"
   ]
  },
  {
   "cell_type": "code",
   "execution_count": 57,
   "metadata": {},
   "outputs": [],
   "source": [
    "def get_decisionBound(w):\n",
    "    #print(w.shape)\n",
    "    slope_vec = np.array([w[0][1],-w[0][0]])\n",
    "    slope = slope_vec[1]/slope_vec[0]\n",
    "    intercept = w[0][2]/np.linalg.norm(w)\n",
    "    \n",
    "    linespace = np.linspace(-2,2,10)\n",
    "    line = slope*linespace + intercept\n",
    "    \n",
    "    return line"
   ]
  },
  {
   "cell_type": "code",
   "execution_count": 58,
   "metadata": {},
   "outputs": [
    {
     "name": "stdout",
     "output_type": "stream",
     "text": [
      "[0.03738311 0.00035424 0.00013336]\n",
      "0.9517397528573985\n",
      "[0.03444533 0.00034818 0.00011012]\n",
      "0.8174671866775224\n",
      "[3.17384202e-02 3.42379489e-04 8.85627489e-05]\n",
      "0.7034680334544362\n",
      "[2.92442450e-02 3.36825342e-04 6.85552613e-05]\n",
      "0.6066810376689911\n",
      "[2.69460824e-02 3.31505858e-04 4.99842424e-05]\n",
      "0.5245071908445424\n"
     ]
    }
   ],
   "source": [
    "#Perceptron and Delta learning rule\n",
    "\n",
    "eta = 1e-3\n",
    "epochs = 5\n",
    "n_outputs = 1\n",
    "n_dim = 3\n",
    "scale = 1e-2\n",
    "\n",
    "X, T = generatePattern(verbose=0,pattern=1)\n",
    "W = weights_init(n_outputs,n_dim,scale)\n",
    "\n",
    "W_perceptron, W_delta_rule, errors = train_network(eta,X,W,T,epochs,0,True)\n",
    "#W_perceptron, W_delta_rule, errors = train_network(eta,X,W,T,epochs,0)\n",
    "#W_perceptron, W_delta_rule, errors = train_network(eta,X,W,T,epochs)\n",
    "#plt_decisionBound(W_perceptron)\n",
    "#plt_decisionBound(W_delta_rule)\n",
    "\n"
   ]
  },
  {
   "cell_type": "code",
   "execution_count": 48,
   "metadata": {},
   "outputs": [
    {
     "data": {
      "image/png": "[encoded data removed]",
      "text/plain": [
       "<Figure size 432x288 with 1 Axes>"
      ]
     },
     "metadata": {
      "needs_background": "light"
     },
     "output_type": "display_data"
    }
   ],
   "source": [
    "plt_errs_perceptron, = plt.plot(np.linspace(0,epochs,epochs),errors[0][:],'r', label='Errors Perceptron Rule')\n",
    "plt_errs_delta_rule, = plt.plot(np.linspace(0,epochs,epochs),errors[1][:],'b',label='Errors Delta Rule')\n",
    "plt.legend(handles=[plt_errs_perceptron, plt_errs_delta_rule])\n",
    "#plt.axis([0,20,0,100])\n",
    "plt.title('Errors')\n",
    "plt.show()\n",
    "\n",
    "#print(errors)"
   ]
  },
  {
   "cell_type": "code",
   "execution_count": 24,
   "metadata": {},
   "outputs": [],
   "source": []
  },
  {
   "cell_type": "code",
   "execution_count": null,
   "metadata": {},
   "outputs": [],
   "source": []
  }
 ],
 "metadata": {
  "kernelspec": {
   "display_name": "Python 3",
   "language": "python",
   "name": "python3"
  },
  "language_info": {
   "codemirror_mode": {
    "name": "ipython",
    "version": 3
   },
   "file_extension": ".py",
   "mimetype": "text/x-python",
   "name": "python",
   "nbconvert_exporter": "python",
   "pygments_lexer": "ipython3",
   "version": "3.7.2"
  }
 },
 "nbformat": 4,
 "nbformat_minor": 2
}
