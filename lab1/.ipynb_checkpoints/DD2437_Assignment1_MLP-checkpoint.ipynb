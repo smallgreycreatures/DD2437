{
 "cells": [
  {
   "cell_type": "markdown",
   "metadata": {},
   "source": [
    "### 3.2 Classification and regression with a two-layer perceptron"
   ]
  },
  {
   "cell_type": "markdown",
   "metadata": {},
   "source": [
    "#### 3.2.1 Classification of linearly non-separable data"
   ]
  },
  {
   "cell_type": "code",
   "execution_count": 3,
   "metadata": {},
   "outputs": [],
   "source": [
    "import numpy as np\n",
    "import matplotlib.pyplot as plt"
   ]
  },
  {
   "cell_type": "code",
   "execution_count": 13,
   "metadata": {},
   "outputs": [],
   "source": [
    "#Draw two sets of points/patterns in 2D from multivariate normal distribution\n",
    "def generatePattern(n,shuffle=1, verbose=1, pattern=1):\n",
    "    \n",
    "   \n",
    "    mu_A = np.array([1.0, 0.3])\n",
    "    mu_B = np.array([0.0, -0.1])\n",
    "    sigma_A = 0.2\n",
    "    sigma_B = 0.3\n",
    "\n",
    "    class_A = np.concatenate((np.multiply(np.random.normal(0,1,(1,n)),sigma_A) +  mu_A[0],np.multiply(np.random.normal(0,1,(1,n)),sigma_A) +  mu_A[1]))\n",
    "    class_B = np.concatenate((np.multiply(np.random.normal(0,1,(1,n)),sigma_B) +  mu_B[0],np.multiply(np.random.normal(0,1,(1,n)),sigma_B) +  mu_A[1]))\n",
    "\n",
    "    if shuffle:\n",
    "        \n",
    "        patterns=np.concatenate((class_A,class_B),axis=1)\n",
    "        patterns = np.concatenate((patterns,np.ones((1,2*n))))\n",
    "        targets=np.concatenate((np.ones(n),-np.ones(n)))\n",
    "        i = np.arange(patterns.shape[1])\n",
    "        np.random.shuffle(i)\n",
    "        patterns=patterns[:,i]\n",
    "        targets=targets[i]\n",
    "        #print(patterns)\n",
    "        #print(targets)\n",
    "    else:\n",
    "        patterns = np.concatenate((class_A,class_B),axis=1)\n",
    "        targets = np.array([np.ones(n,),-np.ones(n,)])\n",
    "        targets = np.ravel(targets)\n",
    "    \n",
    "    if verbose:\n",
    "        #Plotting classes if desired\n",
    "        plt_A, = plt.plot(class_A[0,:],class_A[1,:],'g^', label='Class A')\n",
    "        plt_B, = plt.plot(class_B[0,:],class_B[1,:],'bs', label='Class B')\n",
    "        plt.legend(handles=[plt_A, plt_B])\n",
    "        plt.show()\n",
    "    \n",
    "    \n",
    "    \n",
    "    if pattern:\n",
    "        return patterns, targets\n",
    "    else:\n",
    "        return class_A, class_B\n",
    "    "
   ]
  },
  {
   "cell_type": "code",
   "execution_count": 85,
   "metadata": {},
   "outputs": [],
   "source": [
    "def phi(x):\n",
    "    return 2/(1+np.exp(-x))-1\n",
    "\n",
    "\n",
    "def phi_prime(x):\n",
    "    return 0.5*((1+phi(x))*(1-phi(x)))\n",
    "\n",
    "def forward_pass(X,W,V):\n",
    "    #print(W.shape)\n",
    "    #print(X.shape)\n",
    "    H = phi(np.matmul(W,X))\n",
    "    print(H.shape)\n",
    "    H=np.vstack([H,np.ones(np.shape(H)[1])])\n",
    "    print(H.shape)\n",
    "    print(V.shape)\n",
    "    O = phi(np.matmul(V,H))\n",
    "    return H,O\n",
    "\n",
    "def backward_pass(O,T,H,V,hidden):\n",
    "    delta_o = np.multiply((O-T),phi_prime(O))\n",
    "    print(V.shape)\n",
    "    print(delta_o.shape)\n",
    "    print(phi_prime(H).shape)\n",
    "    delta_h = np.multiply(np.matmul(np.transpose(V),delta_o),phi_prime(H))\n",
    "    delta_h = delta_h[0:hidden,:]\n",
    "    return delta_o, delta_h\n",
    "\n",
    "def update_weights(X,H,W,V,eta,delta_o, delta_h,dw,dv,alpha):\n",
    "    dw = alpha*dw-(1-alpha)*np.matmul(delta_h,np.transpose(X))\n",
    "    dv = alpha*dv - (1-alpha)*np.matmul(delta_o,np.transpose(H))\n",
    "    W = w + dw*eta\n",
    "    V = v + dv*eta\n",
    "    return W,V,dw,dv\n",
    "\n",
    "def backprop(eta,X,T,W,V,hidden,epochs,alpha=0.9):\n",
    "    weights1 = []\n",
    "    weights2 = []\n",
    "    for i in range(epochs):\n",
    "        weights1.append(W)\n",
    "        weights2.append(V)\n",
    "        H,O = forward_pass(X,W,V)\n",
    "        delta_o,delta_h = backward_pass(O,T,H,V,hidden)\n",
    "        W,V,dw,dv = update_weights(X,H,W,V,eta,delta_o,delta_h,dw,dv,alpha)\n",
    "    weights1.append(W)\n",
    "    weights2.append(V)\n",
    "    \n",
    "    return weights1, weights2\n"
   ]
  },
  {
   "cell_type": "code",
   "execution_count": 86,
   "metadata": {},
   "outputs": [],
   "source": [
    "def weights_init_MLP(n_out,n_in,scale,nPercptron):\n",
    "    V = scale*np.random.randn(nPerceptron,n_in)\n",
    "    W = scale*np.random.randn(n_out,nPerceptron+1)\n",
    "    #print(W.shape)\n",
    "    #W = np.append(W,scale*np.random.normal())\n",
    "    #W = np.hstack((W,np.random.normal()))\n",
    "    #print(W.shape)\n",
    "    return V,W"
   ]
  },
  {
   "cell_type": "code",
   "execution_count": 87,
   "metadata": {},
   "outputs": [
    {
     "name": "stdout",
     "output_type": "stream",
     "text": [
      "(2, 3)\n",
      "(1, 200)\n",
      "(2, 200)\n",
      "(2, 3)\n"
     ]
    },
    {
     "ename": "ValueError",
     "evalue": "matmul: Input operand 1 has a mismatch in its core dimension 0, with gufunc signature (n?,k),(k,m?)->(n?,m?) (size 2 is different from 3)",
     "output_type": "error",
     "traceback": [
      "\u001b[0;31m---------------------------------------------------------------------------\u001b[0m",
      "\u001b[0;31mValueError\u001b[0m                                Traceback (most recent call last)",
      "\u001b[0;32m<ipython-input-87-187499c5dba9>\u001b[0m in \u001b[0;36m<module>\u001b[0;34m\u001b[0m\n\u001b[1;32m     12\u001b[0m \u001b[0;31m#print(W.shape)\u001b[0m\u001b[0;34m\u001b[0m\u001b[0;34m\u001b[0m\u001b[0;34m\u001b[0m\u001b[0m\n\u001b[1;32m     13\u001b[0m \u001b[0;34m\u001b[0m\u001b[0m\n\u001b[0;32m---> 14\u001b[0;31m \u001b[0mW_train\u001b[0m\u001b[0;34m,\u001b[0m\u001b[0mV_train\u001b[0m \u001b[0;34m=\u001b[0m \u001b[0mbackprop\u001b[0m\u001b[0;34m(\u001b[0m\u001b[0meta\u001b[0m\u001b[0;34m,\u001b[0m\u001b[0mX\u001b[0m\u001b[0;34m,\u001b[0m\u001b[0mT\u001b[0m\u001b[0;34m,\u001b[0m\u001b[0mW\u001b[0m\u001b[0;34m,\u001b[0m\u001b[0mV\u001b[0m\u001b[0;34m,\u001b[0m\u001b[0mhidden_layers\u001b[0m\u001b[0;34m,\u001b[0m\u001b[0mepochs\u001b[0m\u001b[0;34m)\u001b[0m\u001b[0;34m\u001b[0m\u001b[0;34m\u001b[0m\u001b[0m\n\u001b[0m",
      "\u001b[0;32m<ipython-input-85-d41b802d38a6>\u001b[0m in \u001b[0;36mbackprop\u001b[0;34m(eta, X, T, W, V, hidden, epochs, alpha)\u001b[0m\n\u001b[1;32m     39\u001b[0m         \u001b[0mweights1\u001b[0m\u001b[0;34m.\u001b[0m\u001b[0mappend\u001b[0m\u001b[0;34m(\u001b[0m\u001b[0mW\u001b[0m\u001b[0;34m)\u001b[0m\u001b[0;34m\u001b[0m\u001b[0;34m\u001b[0m\u001b[0m\n\u001b[1;32m     40\u001b[0m         \u001b[0mweights2\u001b[0m\u001b[0;34m.\u001b[0m\u001b[0mappend\u001b[0m\u001b[0;34m(\u001b[0m\u001b[0mV\u001b[0m\u001b[0;34m)\u001b[0m\u001b[0;34m\u001b[0m\u001b[0;34m\u001b[0m\u001b[0m\n\u001b[0;32m---> 41\u001b[0;31m         \u001b[0mH\u001b[0m\u001b[0;34m,\u001b[0m\u001b[0mO\u001b[0m \u001b[0;34m=\u001b[0m \u001b[0mforward_pass\u001b[0m\u001b[0;34m(\u001b[0m\u001b[0mX\u001b[0m\u001b[0;34m,\u001b[0m\u001b[0mW\u001b[0m\u001b[0;34m,\u001b[0m\u001b[0mV\u001b[0m\u001b[0;34m)\u001b[0m\u001b[0;34m\u001b[0m\u001b[0;34m\u001b[0m\u001b[0m\n\u001b[0m\u001b[1;32m     42\u001b[0m         \u001b[0mdelta_o\u001b[0m\u001b[0;34m,\u001b[0m\u001b[0mdelta_h\u001b[0m \u001b[0;34m=\u001b[0m \u001b[0mbackward_pass\u001b[0m\u001b[0;34m(\u001b[0m\u001b[0mO\u001b[0m\u001b[0;34m,\u001b[0m\u001b[0mT\u001b[0m\u001b[0;34m,\u001b[0m\u001b[0mH\u001b[0m\u001b[0;34m,\u001b[0m\u001b[0mV\u001b[0m\u001b[0;34m,\u001b[0m\u001b[0mhidden\u001b[0m\u001b[0;34m)\u001b[0m\u001b[0;34m\u001b[0m\u001b[0;34m\u001b[0m\u001b[0m\n\u001b[1;32m     43\u001b[0m         \u001b[0mW\u001b[0m\u001b[0;34m,\u001b[0m\u001b[0mV\u001b[0m\u001b[0;34m,\u001b[0m\u001b[0mdw\u001b[0m\u001b[0;34m,\u001b[0m\u001b[0mdv\u001b[0m \u001b[0;34m=\u001b[0m \u001b[0mupdate_weights\u001b[0m\u001b[0;34m(\u001b[0m\u001b[0mX\u001b[0m\u001b[0;34m,\u001b[0m\u001b[0mH\u001b[0m\u001b[0;34m,\u001b[0m\u001b[0mW\u001b[0m\u001b[0;34m,\u001b[0m\u001b[0mV\u001b[0m\u001b[0;34m,\u001b[0m\u001b[0meta\u001b[0m\u001b[0;34m,\u001b[0m\u001b[0mdelta_o\u001b[0m\u001b[0;34m,\u001b[0m\u001b[0mdelta_h\u001b[0m\u001b[0;34m,\u001b[0m\u001b[0mdw\u001b[0m\u001b[0;34m,\u001b[0m\u001b[0mdv\u001b[0m\u001b[0;34m,\u001b[0m\u001b[0malpha\u001b[0m\u001b[0;34m)\u001b[0m\u001b[0;34m\u001b[0m\u001b[0;34m\u001b[0m\u001b[0m\n",
      "\u001b[0;32m<ipython-input-85-d41b802d38a6>\u001b[0m in \u001b[0;36mforward_pass\u001b[0;34m(X, W, V)\u001b[0m\n\u001b[1;32m     14\u001b[0m     \u001b[0mprint\u001b[0m\u001b[0;34m(\u001b[0m\u001b[0mH\u001b[0m\u001b[0;34m.\u001b[0m\u001b[0mshape\u001b[0m\u001b[0;34m)\u001b[0m\u001b[0;34m\u001b[0m\u001b[0;34m\u001b[0m\u001b[0m\n\u001b[1;32m     15\u001b[0m     \u001b[0mprint\u001b[0m\u001b[0;34m(\u001b[0m\u001b[0mV\u001b[0m\u001b[0;34m.\u001b[0m\u001b[0mshape\u001b[0m\u001b[0;34m)\u001b[0m\u001b[0;34m\u001b[0m\u001b[0;34m\u001b[0m\u001b[0m\n\u001b[0;32m---> 16\u001b[0;31m     \u001b[0mO\u001b[0m \u001b[0;34m=\u001b[0m \u001b[0mphi\u001b[0m\u001b[0;34m(\u001b[0m\u001b[0mnp\u001b[0m\u001b[0;34m.\u001b[0m\u001b[0mmatmul\u001b[0m\u001b[0;34m(\u001b[0m\u001b[0mV\u001b[0m\u001b[0;34m,\u001b[0m\u001b[0mH\u001b[0m\u001b[0;34m)\u001b[0m\u001b[0;34m)\u001b[0m\u001b[0;34m\u001b[0m\u001b[0;34m\u001b[0m\u001b[0m\n\u001b[0m\u001b[1;32m     17\u001b[0m     \u001b[0;32mreturn\u001b[0m \u001b[0mH\u001b[0m\u001b[0;34m,\u001b[0m\u001b[0mO\u001b[0m\u001b[0;34m\u001b[0m\u001b[0;34m\u001b[0m\u001b[0m\n\u001b[1;32m     18\u001b[0m \u001b[0;34m\u001b[0m\u001b[0m\n",
      "\u001b[0;31mValueError\u001b[0m: matmul: Input operand 1 has a mismatch in its core dimension 0, with gufunc signature (n?,k),(k,m?)->(n?,m?) (size 2 is different from 3)"
     ]
    }
   ],
   "source": [
    "eta = 1e-3\n",
    "n_in = 3\n",
    "n_out = 1\n",
    "nPerceptron = 2\n",
    "scale = 1e-2\n",
    "hidden_layers = 1\n",
    "epochs = 20\n",
    "\n",
    "V,W = weights_init_MLP(n_out,n_in,scale,nPerceptron)\n",
    "X,T = generatePattern(100,verbose=0)\n",
    "print(V.shape)\n",
    "#print(W.shape)\n",
    "\n",
    "W_train,V_train = backprop(eta,X,T,W,V,hidden_layers,epochs)\n"
   ]
  },
  {
   "cell_type": "code",
   "execution_count": null,
   "metadata": {},
   "outputs": [],
   "source": []
  }
 ],
 "metadata": {
  "kernelspec": {
   "display_name": "Python 3",
   "language": "python",
   "name": "python3"
  },
  "language_info": {
   "codemirror_mode": {
    "name": "ipython",
    "version": 3
   },
   "file_extension": ".py",
   "mimetype": "text/x-python",
   "name": "python",
   "nbconvert_exporter": "python",
   "pygments_lexer": "ipython3",
   "version": "3.7.4"
  }
 },
 "nbformat": 4,
 "nbformat_minor": 2
}
