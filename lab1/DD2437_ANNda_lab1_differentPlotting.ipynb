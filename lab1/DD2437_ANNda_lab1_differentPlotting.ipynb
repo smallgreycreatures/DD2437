{
 "cells": [
  {
   "cell_type": "markdown",
   "metadata": {},
   "source": [
    "# Lab Assignment 1 \n",
    "### Learning and generalisation in feed-forward networks — from perceptron learning to backprop"
   ]
  },
  {
   "cell_type": "markdown",
   "metadata": {},
   "source": [
    "### 3. Part I\n",
    "####  3.1 Classification with a single-layer perceptron\n",
    "##### 3.1.1 Generation of linearly-separable data"
   ]
  },
  {
   "cell_type": "code",
   "execution_count": 46,
   "metadata": {},
   "outputs": [],
   "source": [
    "import numpy as np\n",
    "import matplotlib.pyplot as plt"
   ]
  },
  {
   "cell_type": "code",
   "execution_count": 47,
   "metadata": {},
   "outputs": [],
   "source": [
    "#Draw two sets of points/patterns in 2D from multivariate normal distribution\n",
    "def generatePattern(shuffle=1, verbose=1, pattern=1):\n",
    "    #Activate random shuffeling of samples? Set 1 or 0\n",
    "    shuffle = 1\n",
    "\n",
    "    n = 100\n",
    "    mu_A = np.array([2.0, 1.0])\n",
    "    mu_B = np.array([-2.0, 0.0])\n",
    "    sigma_A = 0.5\n",
    "    sigma_B = 0.5\n",
    "\n",
    "    class_A = np.concatenate((np.multiply(np.random.normal(0,1,(1,n)),sigma_A) +  mu_A[0],np.multiply(np.random.normal(0,1,(1,n)),sigma_A) +  mu_A[1]))\n",
    "    class_B = np.concatenate((np.multiply(np.random.normal(0,1,(1,n)),sigma_B) +  mu_B[0],np.multiply(np.random.normal(0,1,(1,n)),sigma_B) +  mu_A[1]))\n",
    "\n",
    "    if shuffle:\n",
    "        class_A = np.random.permutation(class_A)\n",
    "        class_B = np.random.permutation(class_B)\n",
    "        \n",
    "        mask = np.random.randint(2,size=(2*n,),dtype=bool)\n",
    "        mask_ = np.invert(mask)\n",
    "        patterns = np.zeros((2,2*n))\n",
    "        patterns = np.concatenate((patterns,np.ones((1,2*n))))\n",
    "        targets = np.zeros((2*n,))\n",
    "        classes = np.concatenate((class_A,class_B),axis=1)\n",
    "\n",
    "        patterns[0,mask] = classes[0,mask]\n",
    "        patterns[0,mask_] = classes[0,mask_]\n",
    "    \n",
    "        patterns[1,mask] = classes[1,mask]\n",
    "        patterns[1,mask_] = classes[1,mask_]\n",
    "    \n",
    "        targets[mask] = 1; #Class A = 1\n",
    "        targets[mask_] = -1 #Class B = -1\n",
    "    else:\n",
    "        patterns = np.concatenate((class_A,class_B),axis=1)\n",
    "        targets = np.array([np.ones(n,),-np.ones(n,)])\n",
    "        targets = np.ravel(targets)\n",
    "    \n",
    "    if verbose:\n",
    "        #Plotting classes if desired\n",
    "        plt_A, = plt.plot(class_A[0,:],class_A[1,:],'g^', label='Class A')\n",
    "        plt_B, = plt.plot(class_B[0,:],class_B[1,:],'bs', label='Class B')\n",
    "        plt.legend(handles=[plt_A, plt_B])\n",
    "        plt.show()\n",
    "    \n",
    "    \n",
    "    \n",
    "    if pattern:\n",
    "        return patterns, targets\n",
    "    else:\n",
    "        return class_A, class_B\n",
    "    "
   ]
  },
  {
   "cell_type": "code",
   "execution_count": 48,
   "metadata": {},
   "outputs": [
    {
     "data": {
      "image/png": "[encoded data removed]",
      "text/plain": [
       "<Figure size 432x288 with 1 Axes>"
      ]
     },
     "metadata": {
      "needs_background": "light"
     },
     "output_type": "display_data"
    }
   ],
   "source": [
    "class_A, class_B = generatePattern(shuffle=0,pattern=0)"
   ]
  },
  {
   "cell_type": "markdown",
   "metadata": {},
   "source": [
    "#### 3.1.2 Classification with a single-layer perceptron and analysis"
   ]
  },
  {
   "cell_type": "code",
   "execution_count": 49,
   "metadata": {},
   "outputs": [],
   "source": [
    "#Randomly initalize weight matrix W\n",
    "def weights_init(n_dim,n_points,scale):\n",
    "    W = scale*np.random.randn(n_dim,n_points)\n",
    "    return W\n",
    "\n",
    "def get_decisionBound(w):\n",
    "    #print(w.shape)\n",
    "    slope_vec = np.array([w[0][1],-w[0][0]])\n",
    "    slope = slope_vec[1]/slope_vec[0]\n",
    "    intercept = w[0][2]/np.linalg.norm(w)\n",
    "    \n",
    "    linespace = np.linspace(-2,2,10)\n",
    "    line = slope*linespace + intercept\n",
    "    \n",
    "    return line\n",
    "\n",
    "def plt_decisionBound(W_perceptron,W_delta_rule,class_A,class_B):\n",
    "    linespace = np.linspace(-2,2,10)\n",
    "    line_perceptron = get_decisionBound(W_perceptron)\n",
    "    line_delta_rule = get_decisionBound(W_delta_rule)\n",
    "    \n",
    "    \n",
    "    fig = plt.figure()\n",
    "    ax1 = fig.add_subplot(121)\n",
    "    plt_A, = ax1.plot(class_A[0,:],class_A[1,:],'g^', label='Class A')\n",
    "    plt_B, = ax1.plot(class_B[0,:],class_B[1,:],'bs', label='Class B')\n",
    "    plt_line_perceptron, = ax1.plot(linespace,line_perceptron,'k',label='DecisionBoundary')\n",
    "    ax1.legend(handles=[plt_A, plt_B, plt_line_perceptron])\n",
    "    ax1.axis([-2.5,2.5,-2,2])\n",
    "    plt.title('Perceptron Learning Rule')\n",
    "        \n",
    "    ax2 = fig.add_subplot(122)\n",
    "    plt_A, = ax2.plot(class_A[0,:],class_A[1,:],'g^', label='Class A')\n",
    "    plt_B, = ax2.plot(class_B[0,:],class_B[1,:],'bs', label='Class B')\n",
    "    plt_line_delta_rule, = ax2.plot(linespace,line_delta_rule,'k',label='DecisionBoundary')\n",
    "    ax2.legend(handles=[plt_A, plt_B, plt_line_delta_rule])\n",
    "    ax2.axis([-2.5,2.5,-2,2])\n",
    "    plt.title('Delta Learning Rule')\n",
    "    \n",
    "    plt.show()"
   ]
  },
  {
   "cell_type": "code",
   "execution_count": 57,
   "metadata": {},
   "outputs": [],
   "source": [
    "def error(T, Y):\n",
    "    #return np.sum((T - Y) ** 2) / 2\n",
    "    return np.mean((T-Y)**2)\n",
    "\n",
    "def update_weights_delta_rule(eta,T,W,X):\n",
    "    H = np.matmul(W,X)\n",
    "    err = error(T,H)\n",
    "    dW = -eta*np.matmul(H-T,np.transpose(X))\n",
    "    return dW, err\n",
    "\n",
    "def update_weights_delta_rule_sequential(eta,X,T,W):\n",
    "    weights = 0\n",
    "    for i in range(len(T)):\n",
    "        X_sample = X[:,i]\n",
    "        T_sample = T[i]\n",
    "\n",
    "        H = np.matmul(W,X_sample)\n",
    "        dW = -eta*(H-T_sample)*np.transpose(X_sample)\n",
    "        err = error(T,H)\n",
    "        \n",
    "        weights = weights+dW\n",
    "        \n",
    "    return weights, err\n",
    "\n",
    "def update_weights_perceptron(eta,T,W,X):\n",
    "    H = np.matmul(W,X)\n",
    "    Y = np.sign(H)\n",
    "    err = error(T,Y)\n",
    "    dW = -eta*np.matmul((Y-T),np.transpose(X))\n",
    "    #dW = eta*err*X\n",
    "    return dW, err\n",
    "\n",
    "\n",
    "def train_network(eta,X,W,T,epochs,plot=1,sequential=False):\n",
    "    \n",
    "    errors = np.zeros((2,epochs))\n",
    "    W_perceptron = W\n",
    "    W_delta_rule = W\n",
    "    \n",
    "    if plot:\n",
    "        plt_decisionBound(W_perceptron,W_delta_rule,class_A,class_B)\n",
    "        \n",
    "    \n",
    "    for i in range(epochs):\n",
    "        \n",
    "        if sequential:\n",
    "            dw_delta_rule, err_delta_rule = update_weights_delta_rule_sequential(eta,X,T,W_delta_rule)\n",
    "        else:\n",
    "            dw_delta_rule, err_delta_rule = update_weights_delta_rule(eta,T,W_delta_rule,X)\n",
    "        \n",
    "        dW_perceptron, err_perceptron = update_weights_perceptron(eta,T,W_perceptron,X)\n",
    "        \n",
    "        W_delta_rule = dw_delta_rule + W_delta_rule\n",
    "        W_perceptron = dW_perceptron + W_perceptron\n",
    "        \n",
    "        errors[0,i] = err_perceptron\n",
    "        errors[1,i] = err_delta_rule\n",
    "        \n",
    "        if plot:\n",
    "            plt_decisionBound(W_perceptron,W_delta_rule,class_A,class_B)\n",
    "            \n",
    "    return W_perceptron, W_delta_rule, errors\n"
   ]
  },
  {
   "cell_type": "code",
   "execution_count": 63,
   "metadata": {},
   "outputs": [
    {
     "data": {
      "image/png": "[encoded data removed]",
      "text/plain": [
       "<Figure size 432x288 with 2 Axes>"
      ]
     },
     "metadata": {
      "needs_background": "light"
     },
     "output_type": "display_data"
    }
   ],
   "source": [
    "#Perceptron and Delta learning rule\n",
    "eta = 1e-3\n",
    "epochs = 20\n",
    "n_outputs = 1\n",
    "n_dim = 3\n",
    "scale = 1e-2\n",
    "\n",
    "X, T = generatePattern(verbose=0,pattern=1)\n",
    "W = weights_init(n_outputs,n_dim,scale)\n",
    "\n",
    "#W_perceptron, W_delta_rule, errors = train_network(eta,X,W,T,epochs)\n",
    "W_perceptron, W_delta_rule, errors = train_network(eta,X,W,T,epochs,0)\n",
    "#W_perceptron, W_delta_rule, errors = train_network(eta,X,W,T,epochs)\n",
    "plt_decisionBound(W_perceptron,W_delta_rule,class_A,class_B)\n",
    "\n"
   ]
  },
  {
   "cell_type": "code",
   "execution_count": 64,
   "metadata": {},
   "outputs": [
    {
     "data": {
      "image/png": "[encoded data removed]",
      "text/plain": [
       "<Figure size 432x288 with 1 Axes>"
      ]
     },
     "metadata": {
      "needs_background": "light"
     },
     "output_type": "display_data"
    },
    {
     "name": "stdout",
     "output_type": "stream",
     "text": [
      "[[2.14       1.98       2.02       1.98       2.04       2.02\n",
      "  2.02       1.98       2.06       2.02       2.06       2.02\n",
      "  2.06       2.02       2.06       2.         2.06       2.\n",
      "  2.06       1.98      ]\n",
      " [1.00081884 0.99529255 0.99340969 0.99274235 0.99249526 0.99239416\n",
      "  0.99234427 0.99231278 0.99228832 0.99226694 0.99224722 0.99222867\n",
      "  0.99221107 0.99219434 0.9921784  0.99216322 0.99214876 0.99213498\n",
      "  0.99212185 0.99210935]]\n"
     ]
    }
   ],
   "source": [
    "plt_errs_perceptron, = plt.plot(np.linspace(0,epochs,epochs),errors[0][:],'r', label='Errors Perceptron Rule')\n",
    "plt_errs_delta_rule, = plt.plot(np.linspace(0,epochs,epochs),errors[1][:],'b',label='Errors Delta Rule')\n",
    "plt.legend(handles=[plt_errs_perceptron, plt_errs_delta_rule])\n",
    "#plt.axis([0,20,0,100])\n",
    "plt.title('Errors')\n",
    "plt.show()\n",
    "\n",
    "print(errors)"
   ]
  },
  {
   "cell_type": "code",
   "execution_count": null,
   "metadata": {},
   "outputs": [],
   "source": []
  }
 ],
 "metadata": {
  "kernelspec": {
   "display_name": "Python 3",
   "language": "python",
   "name": "python3"
  },
  "language_info": {
   "codemirror_mode": {
    "name": "ipython",
    "version": 3
   },
   "file_extension": ".py",
   "mimetype": "text/x-python",
   "name": "python",
   "nbconvert_exporter": "python",
   "pygments_lexer": "ipython3",
   "version": "3.7.1"
  }
 },
 "nbformat": 4,
 "nbformat_minor": 2
}
