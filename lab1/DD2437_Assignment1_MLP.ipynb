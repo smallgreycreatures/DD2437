{
 "cells": [
  {
   "cell_type": "markdown",
   "metadata": {},
   "source": [
    "### 3.2 Classification and regression with a two-layer perceptron"
   ]
  },
  {
   "cell_type": "markdown",
   "metadata": {},
   "source": [
    "#### 3.2.1 Classification of linearly non-separable data"
   ]
  },
  {
   "cell_type": "code",
   "execution_count": 1,
   "metadata": {},
   "outputs": [],
   "source": [
    "import numpy as np\n",
    "import matplotlib.pyplot as plt"
   ]
  },
  {
   "cell_type": "code",
   "execution_count": 23,
   "metadata": {},
   "outputs": [],
   "source": [
    "#Draw two sets of points/patterns in 2D from multivariate normal distribution\n",
    "def generatePattern(n,shuffle=1, verbose=1, pattern=1):\n",
    "    \n",
    "   \n",
    "    mu_A = np.array([1.0, 0.3])\n",
    "    mu_B = np.array([0.0, -0.1])\n",
    "    sigma_A = 0.2\n",
    "    sigma_B = 0.3\n",
    "    \n",
    "    \n",
    "    class_A=np.zeros((2,n))\n",
    "    class_B=np.zeros((2,n))\n",
    "    class_A[0]= np.concatenate((np.random.randn(1,int(0.5*n))*sigma_A-mu_A[0],np.random.randn(1,int(0.5*n))*sigma_A+mu_A[0]),axis=1)\n",
    "    class_B[0]= np.random.randn(1,n)*sigma_B +mu_B[0]\n",
    "    class_A[1]= np.random.randn(1,n)*sigma_A +mu_A[1]\n",
    "    class_B[1]= np.random.randn(1,n)*sigma_B +mu_B[1]\n",
    "    if shuffle:\n",
    "        \n",
    "        patterns=np.concatenate((class_A,class_B),axis=1)\n",
    "        patterns = np.concatenate((patterns,np.ones((1,2*n))))\n",
    "        targets=np.concatenate((np.ones(n),-np.ones(n)))\n",
    "        i = np.arange(patterns.shape[1])\n",
    "        np.random.shuffle(i)\n",
    "        patterns=patterns[:,i]\n",
    "        targets=targets[i]\n",
    "        #print(patterns)\n",
    "        #print(targets)\n",
    "    else:\n",
    "        patterns = np.concatenate((class_A,class_B),axis=1)\n",
    "        targets = np.array([np.ones(n,),-np.ones(n,)])\n",
    "        targets = np.ravel(targets)\n",
    "    \n",
    "    if verbose:\n",
    "        #Plotting classes if desired\n",
    "        plt_A, = plt.plot(class_A[0,:],class_A[1,:],'g^', label='Class A')\n",
    "        plt_B, = plt.plot(class_B[0,:],class_B[1,:],'bs', label='Class B')\n",
    "        plt.legend(handles=[plt_A, plt_B])\n",
    "        plt.show()\n",
    "    \n",
    "    \n",
    "    \n",
    "    if pattern:\n",
    "        return patterns, targets\n",
    "    else:\n",
    "        return class_A, class_B\n",
    "    "
   ]
  },
  {
   "cell_type": "code",
   "execution_count": 24,
   "metadata": {},
   "outputs": [],
   "source": [
    "def error_mse(T, Y):\n",
    "    #return np.sum((T - Y) ** 2) / 2\n",
    "    return np.mean(((Y-T)**2))\n",
    "\n",
    "def accuracy(T, Y):\n",
    "    #return np.sum((T - Y) ** 2) / 2\n",
    "    return np.sum(abs(T-Y)/2)/len(T)\n",
    "\n",
    "def phi(x):\n",
    "    return 2/(1+np.exp(-x))-1\n",
    "\n",
    "\n",
    "def phi_prime(x):\n",
    "    return 0.5*((1+phi(x))*(1-phi(x)))\n",
    "\n",
    "def forward_pass(X,W,V):\n",
    "    #print(W.shape)\n",
    "    #print(X.shape)\n",
    "    H = phi(np.matmul(W,X))\n",
    "    #print(H.shape)\n",
    "    H=np.vstack([H,np.ones(np.shape(H)[1])])\n",
    "    #print(H.shape)\n",
    "    #print(V.shape)\n",
    "    O = phi(np.matmul(V,H))\n",
    "    #print(O.shape)\n",
    "    return H,O\n",
    "\n",
    "def backward_pass(O,T,H,V,hidden):\n",
    "    delta_o = np.multiply((O-T),phi_prime(O))\n",
    "    #print(\"hej hopp\")\n",
    "    #print(V.shape)\n",
    "    #print(delta_y.shape)\n",
    "    #print(phi_prime(H).shape)\n",
    "    delta_h = np.multiply(np.matmul(np.transpose(V),delta_o),phi_prime(H))\n",
    "    delta_h = delta_h[0:hidden]\n",
    "    return delta_o, delta_h\n",
    "\n",
    "def update_weights(X,H,W,V,eta,delta_o, delta_h,dw,dv,alpha):\n",
    "    dw = alpha*dw-(1-alpha)*np.matmul(delta_h,np.transpose(X))\n",
    "    dv = alpha*dv - (1-alpha)*np.matmul(delta_o,np.transpose(H))\n",
    "    W = W + dw*eta\n",
    "    V = V + dv*eta\n",
    "    return W,V,dw,dv\n",
    "\n",
    "def backprop(eta,X,T,W,V,hidden,epochs,alpha=0.9):\n",
    "    weights1 = []\n",
    "    weights2 = []\n",
    "    mse_errors = []\n",
    "    accuracys = []\n",
    "    #acc = 0\n",
    "    dw = np.zeros(W.shape)\n",
    "    dv = np.zeros(V.shape)\n",
    "    #print(eta,X,T,W,V,hidden,epochs)\n",
    "    for i in range(epochs):\n",
    "        weights1.append(W)\n",
    "        weights2.append(V)\n",
    "        H,O = forward_pass(X,W,V)\n",
    "        mse = error_mse(T,O)\n",
    "        mse_errors.append(mse)\n",
    "        acc = accuracy(T,O)\n",
    "        accuracys.append(acc)\n",
    "        delta_o,delta_h = backward_pass(O,T,H,V,hidden)\n",
    "        W,V,dw,dv = update_weights(X,H,W,V,eta,delta_o,delta_h,dw,dv,alpha)\n",
    "        #print(H)\n",
    "        #print(\"print\")\n",
    "        #print(Y)\n",
    "        \n",
    "    weights1.append(W)\n",
    "    weights2.append(V)\n",
    "    \n",
    "    return weights1, weights2,mse_errors,accuracys\n"
   ]
  },
  {
   "cell_type": "code",
   "execution_count": 25,
   "metadata": {},
   "outputs": [],
   "source": [
    "def weights_init_MLP(n_out,n_in,scale,hidden):\n",
    "    W = scale*np.random.randn(hidden,nPerceptron+1)\n",
    "    V = scale*np.random.randn(1,hidden+1)\n",
    "    #print(W.shape)\n",
    "    #W = np.append(W,scale*np.random.normal())\n",
    "    #W = np.hstack((W,np.random.normal()))\n",
    "    #print(W.shape)\n",
    "    return V,W"
   ]
  },
  {
   "cell_type": "code",
   "execution_count": 26,
   "metadata": {
    "scrolled": true
   },
   "outputs": [
    {
     "data": {
      "image/png": "[encoded data removed]",
      "text/plain": [
       "<Figure size 432x288 with 1 Axes>"
      ]
     },
     "metadata": {
      "needs_background": "light"
     },
     "output_type": "display_data"
    },
    {
     "name": "stdout",
     "output_type": "stream",
     "text": [
      "(5, 3)\n",
      "(1, 6)\n",
      "mse\n",
      "acc\n"
     ]
    }
   ],
   "source": [
    "eta = 1e-4\n",
    "#n_in = \n",
    "n_out = 1\n",
    "nPerceptron = 3\n",
    "scale = 1e-2\n",
    "hidden_perceptrons = 5\n",
    "epochs = 4000\n",
    "\n",
    "#W,V = weights_init_MLP(n_out,n_in,scale,nPerceptron)\n",
    "X,T = generatePattern(100,verbose=1)\n",
    "W = scale*np.random.randn(hidden_perceptrons,np.shape(X)[0])\n",
    "V = scale*np.random.randn(n_out,hidden_perceptrons+1)\n",
    "print(W.shape)\n",
    "print(V.shape)\n",
    "W_train,V_train,mse,acc = backprop(eta,X,T,W,V,hidden_perceptrons,epochs)\n",
    "print(\"mse\")\n",
    "#print(mse)\n",
    "print(\"acc\")\n",
    "#print(acc)"
   ]
  },
  {
   "cell_type": "code",
   "execution_count": 6,
   "metadata": {},
   "outputs": [
    {
     "data": {
      "image/png": "[encoded data removed]",
      "text/plain": [
       "<Figure size 432x288 with 1 Axes>"
      ]
     },
     "metadata": {
      "needs_background": "light"
     },
     "output_type": "display_data"
    },
    {
     "data": {
      "image/png": "[encoded data removed]",
      "text/plain": [
       "<Figure size 432x288 with 1 Axes>"
      ]
     },
     "metadata": {
      "needs_background": "light"
     },
     "output_type": "display_data"
    }
   ],
   "source": [
    "plt_mse, = plt.plot(np.linspace(0,epochs,epochs),mse,'r', label='MSE')\n",
    "plt.legend(handles=[plt_mse])\n",
    "#plt.axis([0,20,0,100])\n",
    "plt.title('Errors')\n",
    "plt.show()\n",
    "plt_acc, = plt.plot(np.linspace(0,epochs,epochs),acc,'b',label='Accuracy')\n",
    "plt.legend(handles=[plt_acc])\n",
    "plt.title('Errors')\n",
    "plt.show()"
   ]
  },
  {
   "cell_type": "code",
   "execution_count": null,
   "metadata": {},
   "outputs": [],
   "source": []
  },
  {
   "cell_type": "code",
   "execution_count": null,
   "metadata": {},
   "outputs": [],
   "source": []
  },
  {
   "cell_type": "code",
   "execution_count": null,
   "metadata": {},
   "outputs": [],
   "source": []
  }
 ],
 "metadata": {
  "kernelspec": {
   "display_name": "Python 3",
   "language": "python",
   "name": "python3"
  },
  "language_info": {
   "codemirror_mode": {
    "name": "ipython",
    "version": 3
   },
   "file_extension": ".py",
   "mimetype": "text/x-python",
   "name": "python",
   "nbconvert_exporter": "python",
   "pygments_lexer": "ipython3",
   "version": "3.7.2"
  }
 },
 "nbformat": 4,
 "nbformat_minor": 2
}
