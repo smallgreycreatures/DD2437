{
 "cells": [
  {
   "cell_type": "code",
   "execution_count": 3,
   "metadata": {},
   "outputs": [],
   "source": [
    "import numpy as np"
   ]
  },
  {
   "cell_type": "code",
   "execution_count": 45,
   "metadata": {},
   "outputs": [
    {
     "name": "stdout",
     "output_type": "stream",
     "text": [
      "(8, 8)\n",
      "[[ 0.  1. -1.  3.  1. -1.  3. -1.]\n",
      " [ 1.  0.  1.  1. -1.  1.  1.  1.]\n",
      " [-1.  1.  0. -1.  1. -1. -1.  3.]\n",
      " [ 3.  1. -1.  0.  1. -1.  3. -1.]\n",
      " [ 1. -1.  1.  1.  0. -3.  1.  1.]\n",
      " [-1.  1. -1. -1. -3.  0. -1. -1.]\n",
      " [ 3.  1. -1.  3.  1. -1.  0. -1.]\n",
      " [-1.  1.  3. -1.  1. -1. -1.  0.]]\n",
      "True x1 [-1 -1  1 -1  1 -1 -1  1]\n",
      "Distorded x1 [ 1 -1  1 -1  1 -1 -1  1]\n",
      "Recalled x1 [[-1]\n",
      " [-1]\n",
      " [ 1]\n",
      " [-1]\n",
      " [ 1]\n",
      " [-1]\n",
      " [-1]\n",
      " [ 1]]\n",
      "True x2 [-1 -1 -1 -1 -1  1 -1 -1]\n",
      "Distorded x2 [ 1  1 -1 -1 -1  1 -1 -1]\n",
      "Recalled x2 [[-1]\n",
      " [-1]\n",
      " [-1]\n",
      " [-1]\n",
      " [-1]\n",
      " [ 1]\n",
      " [-1]\n",
      " [-1]]\n",
      "True x3 [-1  1  1 -1 -1  1 -1  1]\n",
      "Distorded x3 [ 1  1  1 -1  1  1 -1  1]\n",
      "Recalled x3 [[-1]\n",
      " [ 1]\n",
      " [ 1]\n",
      " [-1]\n",
      " [-1]\n",
      " [ 1]\n",
      " [-1]\n",
      " [ 1]]\n"
     ]
    }
   ],
   "source": [
    "def update_weights(X,W):\n",
    "    for x in X:\n",
    "        W += np.outer(x,x)\n",
    "    for i in range(W.shape[0]):\n",
    "        W[i,i] = 0\n",
    "    return W\n",
    "\n",
    "def recall(x,W):\n",
    "    \n",
    "    x = x.reshape((-1,1))\n",
    "    #print(x)\n",
    "    #print(W.shape)\n",
    "    #x = np.sign(np.matmul(W.T,x))\n",
    "    \n",
    "    for i in range(x.shape[0]):\n",
    "        x[i] = np.sign(np.dot(x.T,W[i,:]))\n",
    "    return x\n",
    "\n",
    "def find_pattern(x, W, epochs):\n",
    "    for i in range(epochs):\n",
    "        x = recall(x,W)\n",
    "    return x\n",
    "\n"
   ]
  },
  {
   "cell_type": "markdown",
   "metadata": {},
   "source": [
    "# 3.1.1"
   ]
  },
  {
   "cell_type": "code",
   "execution_count": null,
   "metadata": {},
   "outputs": [],
   "source": [
    "\n",
    "x1=np.array((-1,-1, 1,-1, 1,-1,-1, 1))\n",
    "#print(np.outer(x1,x1))\n",
    "x2=np.array((-1, -1, -1, -1, -1, 1, -1, -1))\n",
    "x3=np.array((-1, 1, 1,-1,-1, 1,-1, 1))\n",
    "\n",
    "W = np.zeros((x1.shape[0],x1.shape[0]))\n",
    "print(W.shape)\n",
    "X = np.vstack((x1,x2,x3))\n",
    "print(update_weights(X,W))\n",
    "\n",
    "x1d=np.array((1,-1, 1,-1, 1,-1,-1, 1,))\n",
    "x2d=np.array((1, 1,-1,-1,-1, 1,-1,-1,))\n",
    "x3d=np.array((1,1,1,-1,1,1,-1,1))\n",
    "epochs = 3\n",
    "\n",
    "print(\"True x1\",x1)\n",
    "#print(\"Recalled x1\",recall(x1,W))\n",
    "print(\"Distorded x1\",x1d)\n",
    "print(\"Recalled x1\",find_pattern(x1d,W,epochs))\n",
    "print(\"True x2\",x2)\n",
    "print(\"Distorded x2\",x2d)\n",
    "print(\"Recalled x2\",find_pattern(x2d,W,epochs))\n",
    "#print(\"Recalled x2\",recall(x2,W))\n",
    "\n",
    "print(\"True x3\",x3)\n",
    "#print(\"Recalled x3\",recall(x3,W))\n",
    "print(\"Distorded x3\",x3d)\n",
    "print(\"Recalled x3\",find_pattern(x3d,W,epochs))"
   ]
  },
  {
   "cell_type": "markdown",
   "metadata": {},
   "source": [
    "# 3.2"
   ]
  },
  {
   "cell_type": "code",
   "execution_count": 54,
   "metadata": {},
   "outputs": [
    {
     "name": "stdout",
     "output_type": "stream",
     "text": [
      "(8, 8)\n",
      "[[ 0.  1. -1.  3.  1. -1.  3. -1.]\n",
      " [ 1.  0.  1.  1. -1.  1.  1.  1.]\n",
      " [-1.  1.  0. -1.  1. -1. -1.  3.]\n",
      " [ 3.  1. -1.  0.  1. -1.  3. -1.]\n",
      " [ 1. -1.  1.  1.  0. -3.  1.  1.]\n",
      " [-1.  1. -1. -1. -3.  0. -1. -1.]\n",
      " [ 3.  1. -1.  3.  1. -1.  0. -1.]\n",
      " [-1.  1.  3. -1.  1. -1. -1.  0.]]\n"
     ]
    },
    {
     "ename": "ValueError",
     "evalue": "could not broadcast input array from shape (8,1) into shape (8)",
     "output_type": "error",
     "traceback": [
      "\u001b[0;31m---------------------------------------------------------------------------\u001b[0m",
      "\u001b[0;31mValueError\u001b[0m                                Traceback (most recent call last)",
      "\u001b[0;32m<ipython-input-54-e374e49ff4e1>\u001b[0m in \u001b[0;36m<module>\u001b[0;34m\u001b[0m\n\u001b[1;32m      8\u001b[0m \u001b[0mX\u001b[0m \u001b[0;34m=\u001b[0m \u001b[0mnp\u001b[0m\u001b[0;34m.\u001b[0m\u001b[0mvstack\u001b[0m\u001b[0;34m(\u001b[0m\u001b[0;34m(\u001b[0m\u001b[0mx1\u001b[0m\u001b[0;34m,\u001b[0m\u001b[0mx2\u001b[0m\u001b[0;34m,\u001b[0m\u001b[0mx3\u001b[0m\u001b[0;34m)\u001b[0m\u001b[0;34m)\u001b[0m\u001b[0;34m\u001b[0m\u001b[0;34m\u001b[0m\u001b[0m\n\u001b[1;32m      9\u001b[0m \u001b[0mprint\u001b[0m\u001b[0;34m(\u001b[0m\u001b[0mupdate_weights\u001b[0m\u001b[0;34m(\u001b[0m\u001b[0mX\u001b[0m\u001b[0;34m,\u001b[0m\u001b[0mW\u001b[0m\u001b[0;34m)\u001b[0m\u001b[0;34m)\u001b[0m\u001b[0;34m\u001b[0m\u001b[0;34m\u001b[0m\u001b[0m\n\u001b[0;32m---> 10\u001b[0;31m \u001b[0mgenerate_input_vectors\u001b[0m\u001b[0;34m(\u001b[0m\u001b[0;34m)\u001b[0m\u001b[0;34m\u001b[0m\u001b[0;34m\u001b[0m\u001b[0m\n\u001b[0m\u001b[1;32m     11\u001b[0m \u001b[0;32mdef\u001b[0m \u001b[0mgenerate_input_vectors\u001b[0m\u001b[0;34m(\u001b[0m\u001b[0;34m)\u001b[0m\u001b[0;34m:\u001b[0m\u001b[0;34m\u001b[0m\u001b[0;34m\u001b[0m\u001b[0m\n\u001b[1;32m     12\u001b[0m     \u001b[0mX\u001b[0m \u001b[0;34m=\u001b[0m \u001b[0mnp\u001b[0m\u001b[0;34m.\u001b[0m\u001b[0mzeros\u001b[0m\u001b[0;34m(\u001b[0m\u001b[0;34m(\u001b[0m\u001b[0;36m8\u001b[0m\u001b[0;34m,\u001b[0m\u001b[0;36m64\u001b[0m\u001b[0;34m)\u001b[0m\u001b[0;34m)\u001b[0m\u001b[0;34m\u001b[0m\u001b[0;34m\u001b[0m\u001b[0m\n",
      "\u001b[0;32m<ipython-input-47-94d2f06f18f7>\u001b[0m in \u001b[0;36mgenerate_input_vectors\u001b[0;34m()\u001b[0m\n\u001b[1;32m     12\u001b[0m     \u001b[0mX\u001b[0m \u001b[0;34m=\u001b[0m \u001b[0mnp\u001b[0m\u001b[0;34m.\u001b[0m\u001b[0mzeros\u001b[0m\u001b[0;34m(\u001b[0m\u001b[0;34m(\u001b[0m\u001b[0;36m8\u001b[0m\u001b[0;34m,\u001b[0m\u001b[0;36m64\u001b[0m\u001b[0;34m)\u001b[0m\u001b[0;34m)\u001b[0m\u001b[0;34m\u001b[0m\u001b[0;34m\u001b[0m\u001b[0m\n\u001b[1;32m     13\u001b[0m     \u001b[0mx\u001b[0m \u001b[0;34m=\u001b[0m \u001b[0mnp\u001b[0m\u001b[0;34m.\u001b[0m\u001b[0mones\u001b[0m\u001b[0;34m(\u001b[0m\u001b[0;34m(\u001b[0m\u001b[0;36m8\u001b[0m\u001b[0;34m,\u001b[0m\u001b[0;36m1\u001b[0m\u001b[0;34m)\u001b[0m\u001b[0;34m)\u001b[0m\u001b[0;34m\u001b[0m\u001b[0;34m\u001b[0m\u001b[0m\n\u001b[0;32m---> 14\u001b[0;31m     \u001b[0mX\u001b[0m\u001b[0;34m[\u001b[0m\u001b[0;34m:\u001b[0m\u001b[0;34m,\u001b[0m\u001b[0;36m0\u001b[0m\u001b[0;34m]\u001b[0m \u001b[0;34m=\u001b[0m \u001b[0mx\u001b[0m\u001b[0;34m\u001b[0m\u001b[0;34m\u001b[0m\u001b[0m\n\u001b[0m\u001b[1;32m     15\u001b[0m     \u001b[0mX\u001b[0m\u001b[0;34m[\u001b[0m\u001b[0;34m:\u001b[0m\u001b[0;34m,\u001b[0m\u001b[0;36m1\u001b[0m\u001b[0;34m]\u001b[0m \u001b[0;34m=\u001b[0m \u001b[0;34m-\u001b[0m\u001b[0mx\u001b[0m\u001b[0;34m\u001b[0m\u001b[0;34m\u001b[0m\u001b[0m\n\u001b[1;32m     16\u001b[0m     \u001b[0mbias\u001b[0m \u001b[0;34m=\u001b[0m \u001b[0;36m2\u001b[0m\u001b[0;34m\u001b[0m\u001b[0;34m\u001b[0m\u001b[0m\n",
      "\u001b[0;31mValueError\u001b[0m: could not broadcast input array from shape (8,1) into shape (8)"
     ]
    }
   ],
   "source": [
    "x1=np.array((-1,-1, 1,-1, 1,-1,-1, 1))\n",
    "#print(np.outer(x1,x1))\n",
    "x2=np.array((-1, -1, -1, -1, -1, 1, -1, -1))\n",
    "x3=np.array((-1, 1, 1,-1,-1, 1,-1, 1))\n",
    "\n",
    "W = np.zeros((x1.shape[0],x1.shape[0]))\n",
    "print(W.shape)\n",
    "X = np.vstack((x1,x2,x3))\n",
    "print(update_weights(X,W))\n",
    "generate_input_vectors()\n",
    "def generate_input_vectors():\n",
    "    X = np.zeros((8,64))\n",
    "    x = np.ones((8,1))\n",
    "    #X[:,0] = x\n",
    "    #X[:,1] = -x\n",
    "    X = np.hstack(x,-x)\n",
    "    bias = 2\n",
    "    for i in range(x.shape[0]):\n",
    "        x2 = x\n",
    "        x2[i] = -1\n",
    "        X = np.hstack(X,x2)\n",
    "    print(X)"
   ]
  },
  {
   "cell_type": "code",
   "execution_count": null,
   "metadata": {},
   "outputs": [],
   "source": []
  }
 ],
 "metadata": {
  "kernelspec": {
   "display_name": "Python 3",
   "language": "python",
   "name": "python3"
  },
  "language_info": {
   "codemirror_mode": {
    "name": "ipython",
    "version": 3
   },
   "file_extension": ".py",
   "mimetype": "text/x-python",
   "name": "python",
   "nbconvert_exporter": "python",
   "pygments_lexer": "ipython3",
   "version": "3.7.2"
  }
 },
 "nbformat": 4,
 "nbformat_minor": 4
}
