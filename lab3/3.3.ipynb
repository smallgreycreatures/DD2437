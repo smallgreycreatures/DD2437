{
 "cells": [
  {
   "cell_type": "code",
   "execution_count": 1,
   "metadata": {},
   "outputs": [],
   "source": [
    "import numpy as np\n",
    "import matplotlib.pyplot as plt"
   ]
  },
  {
   "cell_type": "code",
   "execution_count": 6,
   "metadata": {},
   "outputs": [],
   "source": [
    "def update_weights(X,W):\n",
    "    for x in X:\n",
    "        W += np.outer(x,x)\n",
    "    for i in range(W.shape[0]):\n",
    "        W[i,i] = 0\n",
    "    return W\n",
    "\n",
    "def recall(x,W):\n",
    "    \n",
    "    x = x.reshape((-1,1))\n",
    "    #print(x)\n",
    "    #print(W.shape)\n",
    "    #x = np.sign(np.matmul(W.T,x))\n",
    "    \n",
    "    for i in range(x.shape[0]):\n",
    "        x[i] = np.sign(np.dot(x.T,W[i,:]))\n",
    "    return x\n",
    "\n",
    "\n",
    "def find_pattern(x, W, epochs):\n",
    "    for i in range(epochs):\n",
    "        x = recall(x,W)\n",
    "    return x\n",
    "\n",
    "def recall_async(x,W):\n",
    "    order = np.arange(W.shape[0]) \n",
    "    np.random.shuffle(order)\n",
    "    #print(x)\n",
    "    \n",
    "    for i in order:\n",
    "        #print(np.sum(W[i,:]*x))\n",
    "        if np.sum(W[i,:]*x)>0: \n",
    "            x[i] = 1\n",
    "        else:\n",
    "            x[i] = -1\n",
    "    return x\n",
    "def find_pattern_async(x, W, epochs):\n",
    "    arr = np.arange(10)\n",
    "    for i in range(epochs):\n",
    "        x = recall_async(x,W)\n",
    "        if i %100 in arr:\n",
    "            plt.figure()\n",
    "            plt.imshow(x.reshape((32,32)))\n",
    "    return x\n",
    "\n",
    "def calculate_energy(x,W):\n",
    "    E_s = np.zeros(W.shape[0])\n",
    "    for i in range(W.shape[0]):\n",
    "        for j in range(W.shape[1]):\n",
    "            E_s[i] = E_s[i] + W[i,j]*x[i]*x[j]\n",
    "    E = - np.sum(E_s)\n",
    "    return E"
   ]
  },
  {
   "cell_type": "code",
   "execution_count": null,
   "metadata": {},
   "outputs": [
    {
     "name": "stdout",
     "output_type": "stream",
     "text": [
      "(11264,)\n",
      "(11, 1024)\n",
      "(3, 1024)\n",
      "Energy for data  0 is equal to  -1470864.0\n",
      "Energy for data  1 is equal to  -1395344.0\n",
      "Energy for data  2 is equal to  -1494272.0\n",
      "Energy for data  3 is equal to  -734700.0\n",
      "Energy for data  4 is equal to  -535440.0\n",
      "Energy for data  5 is equal to  -696624.0\n",
      "Energy for data  6 is equal to  -699116.0\n",
      "Energy for data  7 is equal to  -172592.0\n"
     ]
    }
   ],
   "source": [
    "data = np.loadtxt('pict.dat',delimiter=\",\", dtype=int)\n",
    "print(data.shape)\n",
    "data = data.reshape(-1,1024)\n",
    "print(data.shape)\n",
    "#to start with learn the first three\n",
    "train_X = data[0:3].copy()\n",
    "print(train_X.shape)\n",
    "W = np.zeros((train_X.shape[1],train_X.shape[1]))\n",
    "W = update_weights(train_X,W)\n",
    "epochs = 20\n",
    "for i in range(data.shape[0]):\n",
    "    E = calculate_energy(data[i],W)\n",
    "    print(\"Energy for data \", i, \"is equal to \", E)"
   ]
  },
  {
   "cell_type": "code",
   "execution_count": null,
   "metadata": {},
   "outputs": [],
   "source": []
  }
 ],
 "metadata": {
  "kernelspec": {
   "display_name": "Python 3",
   "language": "python",
   "name": "python3"
  },
  "language_info": {
   "codemirror_mode": {
    "name": "ipython",
    "version": 3
   },
   "file_extension": ".py",
   "mimetype": "text/x-python",
   "name": "python",
   "nbconvert_exporter": "python",
   "pygments_lexer": "ipython3",
   "version": "3.7.2"
  }
 },
 "nbformat": 4,
 "nbformat_minor": 4
}
