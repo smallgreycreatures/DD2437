{
 "cells": [
  {
   "cell_type": "code",
   "execution_count": 1,
   "metadata": {},
   "outputs": [],
   "source": [
    "import numpy as np\n",
    "import matplotlib.pyplot as plt"
   ]
  },
  {
   "cell_type": "code",
   "execution_count": 6,
   "metadata": {},
   "outputs": [],
   "source": [
    "def update_weights(X,W):\n",
    "    for x in X:\n",
    "        W += np.outer(x,x)\n",
    "    for i in range(W.shape[0]):\n",
    "        W[i,i] = 0\n",
    "    return W\n",
    "\n",
    "def recall(x,W):\n",
    "    \n",
    "    x = x.reshape((-1,1))\n",
    "    #print(x)\n",
    "    #print(W.shape)\n",
    "    #x = np.sign(np.matmul(W.T,x))\n",
    "    \n",
    "    for i in range(x.shape[0]):\n",
    "        x[i] = np.sign(np.dot(x.T,W[i,:]))\n",
    "    return x\n",
    "\n",
    "\n",
    "def find_pattern(x, W, epochs):\n",
    "    for i in range(epochs):\n",
    "        x = recall(x,W)\n",
    "    return x\n",
    "\n",
    "def recall_async(x,W):\n",
    "    order = np.arange(W.shape[0]) \n",
    "    np.random.shuffle(order)\n",
    "    #print(x)\n",
    "    \n",
    "    for i in order:\n",
    "        #print(np.sum(W[i,:]*x))\n",
    "        if np.sum(W[i,:]*x)>0: \n",
    "            x[i] = 1\n",
    "        else:\n",
    "            x[i] = -1\n",
    "    return x\n",
    "\n",
    "\n",
    "def calculate_energy(x,W):\n",
    "    E_s = np.zeros(W.shape[0])\n",
    "    for i in range(W.shape[0]):\n",
    "        for j in range(W.shape[1]):\n",
    "            E_s[i] = E_s[i] + W[i,j]*x[i]*x[j]\n",
    "    E = - np.sum(E_s)\n",
    "    return E"
   ]
  },
  {
   "cell_type": "markdown",
   "metadata": {},
   "source": [
    "# 3.3.1-2"
   ]
  },
  {
   "cell_type": "code",
   "execution_count": 11,
   "metadata": {},
   "outputs": [
    {
     "name": "stdout",
     "output_type": "stream",
     "text": [
      "(11264,)\n",
      "(11, 1024)\n",
      "(3, 1024)\n",
      "Energy for data  0 is equal to  -1470864.0\n",
      "Energy for data  1 is equal to  -1395344.0\n",
      "Energy for data  2 is equal to  -1494272.0\n",
      "Energy for data  3 is equal to  -734700.0\n",
      "Energy for data  4 is equal to  -535440.0\n",
      "Energy for data  5 is equal to  -696624.0\n",
      "Energy for data  6 is equal to  -699116.0\n",
      "Energy for data  7 is equal to  -172592.0\n",
      "Energy for data  8 is equal to  -270860.0\n",
      "Energy for data  9 is equal to  -422892.0\n",
      "Energy for data  10 is equal to  -174592.0\n"
     ]
    }
   ],
   "source": [
    "data = np.loadtxt('pict.dat',delimiter=\",\", dtype=int)\n",
    "print(data.shape)\n",
    "data = data.reshape(-1,1024)\n",
    "print(data.shape)\n",
    "#to start with learn the first three\n",
    "train_X = data[0:3].copy()\n",
    "print(train_X.shape)\n",
    "W = np.zeros((train_X.shape[1],train_X.shape[1]))\n",
    "W = update_weights(train_X,W)\n",
    "epochs = 20\n",
    "for i in range(data.shape[0]):\n",
    "    E = calculate_energy(data[i],W)\n",
    "    print(\"Energy for data \", i, \"is equal to \", E)"
   ]
  },
  {
   "cell_type": "markdown",
   "metadata": {},
   "source": [
    "# 3.3.3"
   ]
  },
  {
   "cell_type": "code",
   "execution_count": 16,
   "metadata": {},
   "outputs": [],
   "source": [
    "def find_pattern_async_energy(x, W, epochs):\n",
    "    arr = np.arange(10)\n",
    "    energy_s = np.zeros(epochs)\n",
    "    for i in range(epochs):\n",
    "        x = recall_async(x,W)\n",
    "        E = calculate_energy(x,W)\n",
    "        energy_s[i] = E\n",
    "        print(E)\n",
    "        \n",
    "        plt.figure()\n",
    "        #    plt.imshow(x.reshape((32,32)))\n",
    "    return x, energy_s"
   ]
  },
  {
   "cell_type": "code",
   "execution_count": 21,
   "metadata": {},
   "outputs": [
    {
     "name": "stdout",
     "output_type": "stream",
     "text": [
      "(11264,)\n",
      "(11, 1024)\n",
      "(3, 1024)\n",
      "-1413772.0\n",
      "-1494272.0\n",
      "-1494272.0\n",
      "-1494272.0\n"
     ]
    },
    {
     "data": {
      "text/plain": [
       "Text(0, 0.5, 'Energy')"
      ]
     },
     "execution_count": 21,
     "metadata": {},
     "output_type": "execute_result"
    },
    {
     "data": {
      "image/png": "[encoded data removed]",
      "text/plain": [
       "<Figure size 432x288 with 1 Axes>"
      ]
     },
     "metadata": {
      "needs_background": "light"
     },
     "output_type": "display_data"
    }
   ],
   "source": [
    "data = np.loadtxt('pict.dat',delimiter=\",\", dtype=int)\n",
    "print(data.shape)\n",
    "data = data.reshape(-1,1024)\n",
    "print(data.shape)\n",
    "#to start with learn the first three\n",
    "train_X = data[0:3].copy()\n",
    "print(train_X.shape)\n",
    "W = np.zeros((train_X.shape[1],train_X.shape[1]))\n",
    "W = update_weights(train_X,W)\n",
    "epochs = 4\n",
    "x, energy_s = find_pattern_async_energy(data[10],W,epochs)\n",
    "\n",
    "plt.figure()\n",
    "plt.plot(np.arange(epochs),energy_s)\n",
    "plt.xlabel(\"epochs\")\n",
    "plt.ylabel(\"Energy\")"
   ]
  },
  {
   "cell_type": "markdown",
   "metadata": {},
   "source": [
    "# 3.3.4"
   ]
  },
  {
   "cell_type": "code",
   "execution_count": 26,
   "metadata": {},
   "outputs": [
    {
     "name": "stdout",
     "output_type": "stream",
     "text": [
      "-1426.56680973297\n",
      "-1324.9595154781514\n",
      "-1454.4300234536981\n",
      "-1523.024022838071\n",
      "-1700.812004914511\n",
      "-1821.0168776790579\n",
      "-1674.439361306119\n",
      "-1274.4184994176585\n",
      "-1572.8243037563475\n",
      "-1578.8838323717287\n",
      "-1465.0812389044618\n",
      "-1387.0545777174025\n",
      "-1540.1397790089477\n",
      "-1534.801285375896\n",
      "-1607.3423549196482\n",
      "-1447.773311696188\n",
      "-1670.7801392297872\n",
      "-1433.4603080987958\n",
      "-1468.3645607893518\n",
      "-1700.0244674291728\n"
     ]
    },
    {
     "data": {
      "text/plain": [
       "Text(0, 0.5, 'Energy')"
      ]
     },
     "execution_count": 26,
     "metadata": {},
     "output_type": "execute_result"
    },
    {
     "data": {
      "image/png": "[encoded data removed]",
      "text/plain": [
       "<Figure size 432x288 with 1 Axes>"
      ]
     },
     "metadata": {
      "needs_background": "light"
     },
     "output_type": "display_data"
    }
   ],
   "source": [
    "mu = 0\n",
    "sigma = 0.1\n",
    "W = np.random.normal(mu,sigma,(train_X.shape[1],train_X.shape[1]))\n",
    "\n",
    "epochs = 20\n",
    "x, energy_s = find_pattern_async_energy(data[10],W,epochs)\n",
    "\n",
    "plt.figure()\n",
    "plt.plot(np.arange(epochs),energy_s)\n",
    "plt.xlabel(\"epochs\")\n",
    "plt.ylabel(\"Energy\")"
   ]
  },
  {
   "cell_type": "markdown",
   "metadata": {},
   "source": [
    "When weight init with random numbers the energy oscillates up and down without finding any attractors."
   ]
  },
  {
   "cell_type": "code",
   "execution_count": 28,
   "metadata": {},
   "outputs": [
    {
     "name": "stdout",
     "output_type": "stream",
     "text": [
      "[[-0.03916122 -0.03932161  0.03137957 ... -0.03654489 -0.00344583\n",
      "  -0.0163104 ]\n",
      " [-0.03932161 -0.0278889   0.03227836 ... -0.04770244  0.01814884\n",
      "  -0.03446097]\n",
      " [ 0.03137957  0.03227836  0.0185556  ...  0.01799998  0.0770681\n",
      "  -0.00596542]\n",
      " ...\n",
      " [-0.03654489 -0.04770244  0.01799998 ...  0.08815009 -0.0205439\n",
      "   0.0852887 ]\n",
      " [-0.00344583  0.01814884  0.0770681  ... -0.0205439   0.06388866\n",
      "  -0.03965946]\n",
      " [-0.0163104  -0.03446097 -0.00596542 ...  0.0852887  -0.03965946\n",
      "   0.01099578]]\n",
      "-2165.0865601473374\n",
      "-2622.118908526848\n",
      "-2808.469639974912\n",
      "-2917.1441483188187\n",
      "-2969.326048169006\n",
      "-3009.09885709478\n",
      "-3035.3005938999127\n",
      "-3040.1660681169924\n",
      "-3042.2149129984396\n",
      "-3043.7735304096145\n",
      "-3046.210620750988\n",
      "-3047.6530456883206\n",
      "-3047.137202089535\n",
      "-3046.997725924988\n",
      "-3047.137202089535\n",
      "-3047.152499962318\n",
      "-3047.6530456883206\n",
      "-3047.137202089535\n",
      "-3046.6969227005225\n",
      "-3047.6530456883206\n"
     ]
    },
    {
     "data": {
      "text/plain": [
       "Text(0, 0.5, 'Energy')"
      ]
     },
     "execution_count": 28,
     "metadata": {},
     "output_type": "execute_result"
    },
    {
     "data": {
      "image/png": "[encoded data removed]",
      "text/plain": [
       "<Figure size 432x288 with 1 Axes>"
      ]
     },
     "metadata": {
      "needs_background": "light"
     },
     "output_type": "display_data"
    }
   ],
   "source": [
    "mu = 0\n",
    "sigma = 0.1\n",
    "W = np.random.normal(mu,sigma,(train_X.shape[1],train_X.shape[1]))\n",
    "W =1/2*(W+W.T)\n",
    "print(W)\n",
    "epochs = 20\n",
    "x, energy_s = find_pattern_async_energy(data[10],W,epochs)\n",
    "\n",
    "plt.figure()\n",
    "plt.plot(np.arange(epochs),energy_s)\n",
    "plt.xlabel(\"epochs\")\n",
    "plt.ylabel(\"Energy\")"
   ]
  },
  {
   "cell_type": "markdown",
   "metadata": {},
   "source": [
    "It finds an attractor. Because a symmetric weight matrix means that we have a fully connected network and thus the proof of convergence for the energy function is applicable. (s. 352 Rojas)"
   ]
  },
  {
   "cell_type": "code",
   "execution_count": null,
   "metadata": {},
   "outputs": [],
   "source": []
  }
 ],
 "metadata": {
  "kernelspec": {
   "display_name": "Python 3",
   "language": "python",
   "name": "python3"
  },
  "language_info": {
   "codemirror_mode": {
    "name": "ipython",
    "version": 3
   },
   "file_extension": ".py",
   "mimetype": "text/x-python",
   "name": "python",
   "nbconvert_exporter": "python",
   "pygments_lexer": "ipython3",
   "version": "3.7.4"
  }
 },
 "nbformat": 4,
 "nbformat_minor": 4
}
