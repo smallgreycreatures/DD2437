{
 "cells": [
  {
   "cell_type": "code",
   "execution_count": 1,
   "metadata": {},
   "outputs": [],
   "source": [
    "import numpy as np\n",
    "import matplotlib.pyplot as plt"
   ]
  },
  {
   "cell_type": "code",
   "execution_count": null,
   "metadata": {},
   "outputs": [],
   "source": [
    "def update_weights(X,W):\n",
    "    rho = np.sum(np.sum(X))/(X.shape[0]*X.shape[1])\n",
    "    for x in X:\n",
    "        W += np.outer(x-rho,x-rho)\n",
    "    for i in range(W.shape[0]):\n",
    "        W[i,i] = 0\n",
    "    return W\n",
    "\n",
    "def recall(x,W):\n",
    "    \n",
    "    x = x.reshape((-1,1))\n",
    "    #print(x)\n",
    "    #print(W.shape)\n",
    "    #x = np.sign(np.matmul(W.T,x))\n",
    "    \n",
    "    for i in range(x.shape[0]):\n",
    "        x[i] = 0.5 + 0.5*np.sign(np.dot(x.T,W[i,:])-theta)\n",
    "    return x\n",
    "\n",
    "\n",
    "def find_pattern(x, W, epochs):\n",
    "    x_out = x.copy()\n",
    "    for i in range(epochs):\n",
    "        x_out = recall(x_out,W)\n",
    "    return x_out\n",
    "\n",
    "def calculate_energy(x,W):\n",
    "    E_s = np.zeros(W.shape[0])\n",
    "    for i in range(W.shape[0]):\n",
    "        for j in range(W.shape[1]):\n",
    "            E_s[i] = E_s[i] + W[i,j]*x[i]*x[j]\n",
    "    E = - np.sum(E_s)\n",
    "    return E"
   ]
  }
 ],
 "metadata": {
  "kernelspec": {
   "display_name": "Python 3",
   "language": "python",
   "name": "python3"
  },
  "language_info": {
   "codemirror_mode": {
    "name": "ipython",
    "version": 3
   },
   "file_extension": ".py",
   "mimetype": "text/x-python",
   "name": "python",
   "nbconvert_exporter": "python",
   "pygments_lexer": "ipython3",
   "version": "3.7.2"
  }
 },
 "nbformat": 4,
 "nbformat_minor": 4
}
